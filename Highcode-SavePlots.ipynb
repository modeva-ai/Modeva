{
 "cells": [
  {
   "cell_type": "markdown",
   "id": "f7e37ad1-cc7f-4f63-ba7b-015e83b5035e",
   "metadata": {},
   "source": [
    "# Highcode Example: Save Plots as HTML or PNG"
   ]
  },
  {
   "cell_type": "code",
   "execution_count": null,
   "id": "902d3871-4afc-4411-87d0-eca72758832e",
   "metadata": {},
   "outputs": [],
   "source": [
    "## ----------------------------------------------------------------\n",
    "## Install or update packages(recommended to run in Terminal)\n",
    "## ----------------------------------------------------------------\n",
    "!pip show modeva\n",
    "# !pip uninstall modeva\n",
    "#!pip install modeva"
   ]
  },
  {
   "cell_type": "code",
   "execution_count": null,
   "id": "19b632c4-2745-48ca-abad-903cd609b4d3",
   "metadata": {},
   "outputs": [],
   "source": [
    "## ----------------------------------------------------------------\n",
    "## Data Loading: e.g. built-in BikeSharing dataset\n",
    "## ----------------------------------------------------------------\n",
    "from modeva import DataSet\n",
    "ds = DataSet()\n",
    "ds.load(name=\"BikeSharing\")"
   ]
  },
  {
   "cell_type": "code",
   "execution_count": null,
   "id": "a72caf51-f3dd-451f-84e5-fb8169f52396",
   "metadata": {},
   "outputs": [],
   "source": [
    "## ----------------------------------------------------------------\n",
    "## EDA (Exploratory Data Analysis)\n",
    "## ----------------------------------------------------------------\n",
    "\n",
    "# Example EDA plot: univariate histogram\n",
    "result = ds.eda_1d(feature=\"cnt\", plot_type=\"histogram\")\n",
    "\n",
    "# Display chart on screen\n",
    "result.plot(figsize=(6,4))\n",
    "\n",
    "# Save plot as HTML or PNG\n",
    "result.plot_save(file_name=\"BS_images/cnt_histogram\", format='html', figsize=(6, 4))\n",
    "result.plot_save(file_name=\"BS_images/cnt_histogram\", format='png', figsize=(6, 4))"
   ]
  },
  {
   "cell_type": "code",
   "execution_count": null,
   "id": "da05cd59-4e65-4d64-b5ea-0918d4a7f03d",
   "metadata": {},
   "outputs": [],
   "source": [
    "## ----------------------------------------------------------------\n",
    "## Data Processing: refer to Highcode-BikeSharing.ipynb\n",
    "## ----------------------------------------------------------------\n",
    "ds.scale_numerical(method=\"minmax\")\n",
    "ds.encode_categorical(features=(\"season\", \"weathersit\", \"holiday\", \"workingday\"), method=\"ordinal\")\n",
    "ds.bin_numerical(features=(\"atemp\", ), bins=10, method=\"uniform\")\n",
    "ds.preprocess()\n",
    "ds.set_inactive_features(features=['season', 'workingday', 'temp'])\n",
    "ds.set_target(feature=\"cnt\")\n",
    "ds.set_task_type('Regression')\n",
    "ds.set_random_split(test_ratio=0.33)"
   ]
  },
  {
   "cell_type": "code",
   "execution_count": null,
   "id": "ca7886de-75df-4ebf-b562-248fe39a82f3",
   "metadata": {},
   "outputs": [],
   "source": [
    "## ----------------------------------------------------------------\n",
    "## LGBM-Depth2 and Interpretability \n",
    "## ----------------------------------------------------------------\n",
    "from modeva.models import MoLGBMRegressor\n",
    "model_lgbm = MoLGBMRegressor(name=\"LGBM\", max_depth=2, n_estimators=100, verbose=-1)\n",
    "model_lgbm.fit(ds.train_x, ds.train_y.ravel())\n",
    "\n",
    "from modeva import FactSheet\n",
    "fs = FactSheet(ds, model_lgbm)\n",
    "\n",
    "result1 = fs.interpret_fi()\n",
    "result1.plot(figsize=(6,4))\n",
    "result1.plot_save(file_name=\"BS_images/LGBM_feature_importance\", format='html', figsize=(6, 4))\n",
    "result1.plot_save(file_name=\"BS_images/LGBM_feature_importance\", format='png', figsize=(6, 4))\n",
    "\n",
    "result2 = fs.interpret_effects(features=\"hr\")\n",
    "result2.plot(figsize=(6, 4))\n",
    "result2.plot_save(file_name=\"BS_images/LGBM_effect_plot_hr\", format='html', figsize=(6, 4))\n",
    "result2.plot_save(file_name=\"BS_images/LGBM_effect_plot_hr\", format='png', figsize=(6, 4))"
   ]
  },
  {
   "cell_type": "code",
   "execution_count": null,
   "id": "409f0775-aad5-437b-98e9-d0fd8ce33340",
   "metadata": {},
   "outputs": [],
   "source": [
    "## ----------------------------------------------------------------\n",
    "## MoE Benchmarking\n",
    "## ----------------------------------------------------------------\n",
    "from modeva.models import MoMoERegressor\n",
    "model_moe = MoMoERegressor(name=\"MOE\", max_depth=2, n_clusters=5, n_estimators=100, verbose=-1)\n",
    "model_moe.fit(ds.train_x, ds.train_y.ravel())"
   ]
  },
  {
   "cell_type": "code",
   "execution_count": null,
   "id": "018a8c2b-8444-478d-aa18-ff5022bb5be0",
   "metadata": {},
   "outputs": [],
   "source": [
    "# Example of generating/saving multiple plots \n",
    "\n",
    "from modeva import FactSheet\n",
    "fsc = FactSheet(ds, models=[model_lgbm, model_moe])\n",
    "\n",
    "result = fsc.compare_accuracy_table(train_dataset=\"train\", test_dataset=\"test\", metric=(\"MAE\", \"MSE\", \"R2\"))\n",
    "\n",
    "result.plot(figsize=(6,4))\n",
    "result.plot_save(file_name=\"BS_images/MoE_Benchmark_Accuracy\", format='html', figsize=(6, 4))\n",
    "result.plot_save(file_name=\"BS_images/MoE_Benchmark_Accuracy\", format='png', figsize=(6, 4))"
   ]
  }
 ],
 "metadata": {
  "kernelspec": {
   "display_name": "Python 3 (ipykernel)",
   "language": "python",
   "name": "python3"
  },
  "language_info": {
   "codemirror_mode": {
    "name": "ipython",
    "version": 3
   },
   "file_extension": ".py",
   "mimetype": "text/x-python",
   "name": "python",
   "nbconvert_exporter": "python",
   "pygments_lexer": "ipython3",
   "version": "3.9.18"
  },
  "widgets": {
   "application/vnd.jupyter.widget-state+json": {
    "state": {
     "118217c960d64e9eba6968920a1988a9": {
      "model_module": "jupyter-vuetify",
      "model_module_version": "^1.9.4",
      "model_name": "ThemeColorsModel",
      "state": {
       "_model_module_version": "^1.9.4",
       "_theme_name": "light",
       "_view_module": null,
       "_view_module_version": "^1.9.4",
       "accent": "#82B1FF",
       "error": "#FF5252",
       "info": "#2196F3",
       "primary": "#1976D2",
       "secondary": "#424242",
       "success": "#4CAF50",
       "warning": "#FB8C00"
      }
     },
     "60711fe8e3af4338b26cf05dd31c8a97": {
      "model_module": "jupyter-vue",
      "model_module_version": "^1.11.1",
      "model_name": "ForceLoadModel",
      "state": {
       "_model_module_version": "^1.11.1",
       "_view_module": null,
       "_view_module_version": "",
       "layout": "IPY_MODEL_f42332db34fd40c986cd145d1ad436e4"
      }
     },
     "9e7154b2aebf4bf5b90c4520f1b9c846": {
      "model_module": "jupyter-vuetify",
      "model_module_version": "^1.9.4",
      "model_name": "ThemeModel",
      "state": {
       "_model_module_version": "^1.9.4",
       "_view_module": null,
       "_view_module_version": "^1.9.4",
       "dark_effective": false
      }
     },
     "f42332db34fd40c986cd145d1ad436e4": {
      "model_module": "@jupyter-widgets/base",
      "model_module_version": "2.0.0",
      "model_name": "LayoutModel",
      "state": {}
     },
     "fe26a74f0b424db48b37826ce974c554": {
      "model_module": "jupyter-vuetify",
      "model_module_version": "^1.9.4",
      "model_name": "ThemeColorsModel",
      "state": {
       "_model_module_version": "^1.9.4",
       "_theme_name": "dark",
       "_view_module": null,
       "_view_module_version": "^1.9.4",
       "accent": "#FF4081",
       "error": "#FF5252",
       "info": "#2196F3",
       "primary": "#2196F3",
       "secondary": "#424242",
       "success": "#4CAF50",
       "warning": "#FB8C00"
      }
     }
    },
    "version_major": 2,
    "version_minor": 0
   }
  }
 },
 "nbformat": 4,
 "nbformat_minor": 5
}
