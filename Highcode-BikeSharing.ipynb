{
 "cells": [
  {
   "cell_type": "markdown",
   "id": "f7e37ad1-cc7f-4f63-ba7b-015e83b5035e",
   "metadata": {},
   "source": [
    "# Highcode Example: Experimentation based on BikeSharing Data"
   ]
  },
  {
   "cell_type": "markdown",
   "id": "5d781b4f-2aff-4be8-8ea1-5ca083f5f4c4",
   "metadata": {},
   "source": [
    "## 0) Setting up Modeva"
   ]
  },
  {
   "cell_type": "code",
   "execution_count": null,
   "id": "902d3871-4afc-4411-87d0-eca72758832e",
   "metadata": {},
   "outputs": [],
   "source": [
    "## =============================================================\n",
    "## Install or update packages(recommended to run in Terminal)\n",
    "## =============================================================\n",
    "!pip show modeva\n",
    "# !pip uninstall modeva\n",
    "#!pip install modeva"
   ]
  },
  {
   "cell_type": "code",
   "execution_count": null,
   "id": "fe44c50c-809b-4100-9343-3d21187428d2",
   "metadata": {},
   "outputs": [],
   "source": [
    "# To get authentication, use the following command: (To get full access please replace the token to your own token)\n",
    "from modeva.utils.authenticate import authenticate\n",
    "authenticate(token='eaaa4301-b140-484c-8e93-f9f633c8bacb')"
   ]
  },
  {
   "cell_type": "markdown",
   "id": "a434bfac-fae1-400e-ae3f-075933e7b736",
   "metadata": {},
   "source": [
    "## 1) Data Modules\n",
    "\n",
    "- Data Loading\n",
    "- Data Summary\n",
    "- Exploratory Data Analysis (EDA)\n",
    "- Data Processing"
   ]
  },
  {
   "cell_type": "code",
   "execution_count": null,
   "id": "48993487-80d4-4e6d-bc7a-21edd2cd6350",
   "metadata": {},
   "outputs": [],
   "source": [
    "## Create an instance of DataSet class\n",
    "from modeva import DataSet\n",
    "ds = DataSet()"
   ]
  },
  {
   "cell_type": "code",
   "execution_count": null,
   "id": "326f7f12-c3cb-4c29-b23c-1ca27a1760d3",
   "metadata": {},
   "outputs": [],
   "source": [
    "## ----------------------------------------------------------------\n",
    "## Data Loading: a) built-in data; b) user data\n",
    "## ----------------------------------------------------------------\n",
    "\n",
    "## a) Load built-in data: \"BikeSharing\", \"CaliforniaHousing\", \"SimuCredit\", \"TaiwanCredit\"\n",
    "ds.load(\"BikeSharing\")\n",
    "ds"
   ]
  },
  {
   "cell_type": "code",
   "execution_count": null,
   "id": "a652d0f9-1bf7-49f5-aaec-ee9cb9f2490d",
   "metadata": {},
   "outputs": [],
   "source": [
    "## b) Load user data as pandas dataframe\n",
    "\n",
    "# import pandas as pd\n",
    "# data = pd.read_csv(\"BikeSharing.csv\")\n",
    "# ds = DataSet()\n",
    "# ds.load_dataframe(data)"
   ]
  },
  {
   "cell_type": "code",
   "execution_count": null,
   "id": "1c8b9e0e-158d-4eb3-8485-e5f22e4fcef6",
   "metadata": {},
   "outputs": [],
   "source": [
    "## ----------------------------------------------------------------\n",
    "## Data Summary: descriptive statistics\n",
    "## ----------------------------------------------------------------\n",
    "\n",
    "result = ds.summary()"
   ]
  },
  {
   "cell_type": "code",
   "execution_count": null,
   "id": "91d02333-2d68-45ba-85fa-2a295783cb20",
   "metadata": {},
   "outputs": [],
   "source": [
    "## Overall data summary\n",
    "result.table[\"summary\"]"
   ]
  },
  {
   "cell_type": "code",
   "execution_count": null,
   "id": "32a2a3aa-c601-47e4-afd4-3f5760f97461",
   "metadata": {},
   "outputs": [],
   "source": [
    "## Summary of numerical features\n",
    "result.table[\"numerical\"]"
   ]
  },
  {
   "cell_type": "code",
   "execution_count": null,
   "id": "51ec3adb-9c30-458a-b1bd-a9266f597397",
   "metadata": {},
   "outputs": [],
   "source": [
    "## Summary of categorical features\n",
    "result.table[\"categorical\"]"
   ]
  },
  {
   "cell_type": "code",
   "execution_count": null,
   "id": "7f196355-521e-4f37-bd5f-5886dc3b53b3",
   "metadata": {},
   "outputs": [],
   "source": [
    "## ----------------------------------------------------------------\n",
    "## Exploratory Data Analysis (EDA): 1d, 2d, 3d, correlation, pca, umap\n",
    "## ----------------------------------------------------------------\n",
    "\n",
    "result = ds.eda_1d(feature=\"cnt\", plot_type=\"density\")\n",
    "result.plot(figsize=(5, 4))\n",
    "result = ds.eda_1d(feature=\"cnt\", plot_type=\"histogram\")\n",
    "result.plot(figsize=(5, 4))"
   ]
  },
  {
   "cell_type": "code",
   "execution_count": null,
   "id": "63e377e1-f51c-4360-895a-19238f4785cd",
   "metadata": {},
   "outputs": [],
   "source": [
    "## 2D plots: pair of numerical features\n",
    "result = ds.eda_2d(feature_x=\"hr\", feature_y=\"cnt\", feature_color=\"yr\",\n",
    "                   sample_size=300, smoother_order=None)\n",
    "result.plot(figsize=(5, 4))"
   ]
  },
  {
   "cell_type": "code",
   "execution_count": null,
   "id": "6f7d681c-923f-428b-90de-63788c3ec1ce",
   "metadata": {},
   "outputs": [],
   "source": [
    "## 2D plots: pair of categorical features\n",
    "result = ds.eda_2d(feature_x=\"season\", feature_y=\"workingday\")\n",
    "result.plot(figsize=(5, 4))"
   ]
  },
  {
   "cell_type": "code",
   "execution_count": null,
   "id": "93a57b28-9e1f-4f22-9af5-7127ae8b9e2e",
   "metadata": {},
   "outputs": [],
   "source": [
    "## 2D plots: numerical and categorical features\n",
    "result = ds.eda_2d(feature_x=\"season\", feature_y=\"cnt\")\n",
    "result.plot(figsize=(5, 4))"
   ]
  },
  {
   "cell_type": "code",
   "execution_count": null,
   "id": "472195b9-da9a-4494-857e-abc5a6ea4d32",
   "metadata": {},
   "outputs": [],
   "source": [
    "## 3D Scatter Plot\n",
    "result = ds.eda_3d(feature_x=\"hr\", feature_y=\"atemp\", feature_z=\"cnt\",\n",
    "                   feature_color=\"yr\", sample_size=300)\n",
    "result.plot(figsize=(6, 5))"
   ]
  },
  {
   "cell_type": "code",
   "execution_count": null,
   "id": "57f2e026-24d4-4ef1-954f-ecbf3ad17bbb",
   "metadata": {},
   "outputs": [],
   "source": [
    "## Correlation Heatmap\n",
    "result = ds.eda_correlation(features=('hr',\n",
    "                                      'season',\n",
    "                                      'workingday',\n",
    "                                      'weathersit',\n",
    "                                      'windspeed',\n",
    "                                      'hum',\n",
    "                                      'cnt'), sample_size=10000)\n",
    "result.plot(figsize=(5, 5))"
   ]
  },
  {
   "cell_type": "code",
   "execution_count": null,
   "id": "74299198-6005-4154-8e62-7ac1f3ced749",
   "metadata": {},
   "outputs": [],
   "source": [
    "## PCA - Dimension Reduction\n",
    "result = ds.eda_pca(features=('hr',\n",
    "                              'season',\n",
    "                              'workingday',\n",
    "                              'weathersit',\n",
    "                              'windspeed',\n",
    "                              'hum',\n",
    "                              'cnt'), n_components=5)\n",
    "result.plot(figsize=(5, 6))"
   ]
  },
  {
   "cell_type": "code",
   "execution_count": null,
   "id": "3222acee-a52c-428d-9278-972077ddff75",
   "metadata": {},
   "outputs": [],
   "source": [
    "## ----------------------------------------------------------------\n",
    "## Data Preprocessing and Feature Engineering\n",
    "## \n",
    "##    ds.impute_missing: missing value imputation\n",
    "##    ds.scale_numerical: scaling, standardization of numerical features\n",
    "##    ds.encode_categorical: one-hot encoding or ordinal encoding for categorical features\n",
    "##    ds.bin_numerical: binning numerical features into discrete bins\n",
    "##\n",
    "## Upon calling these functions, no results will be returned. \n",
    "## Data processing will be executed by running ds.preprocess(). \n",
    "## To reset preprocessing steps, run ds.reset_preprocess().\n",
    "## ----------------------------------------------------------------\n",
    "\n",
    "## First of all, reset all preprocessing steps\n",
    "ds.reset_preprocess()\n",
    "\n",
    "## a) data imputation\n",
    "ds.impute_missing()\n",
    "\n",
    "## b) scaling for numerical features\n",
    "ds.scale_numerical(method=\"minmax\")\n",
    "\n",
    "## c) encoding for numerical features\n",
    "ds.encode_categorical(features=(\"season\", \"weathersit\", \"holiday\", \"workingday\"), method=\"ordinal\")\n",
    "\n",
    "## d) binning for numerical features\n",
    "ds.bin_numerical(features=(\"atemp\", ), bins=10, method=\"uniform\")\n",
    "\n",
    "## e) execute all preprocessing steps\n",
    "ds.preprocess()\n",
    "\n",
    "## Display the preprocessed data\n",
    "ds.data"
   ]
  },
  {
   "cell_type": "code",
   "execution_count": null,
   "id": "07683032-0dad-4d6e-9504-f5e0b697fbab",
   "metadata": {},
   "outputs": [],
   "source": [
    "## Compare to the raw data\n",
    "ds.raw_data"
   ]
  },
  {
   "cell_type": "code",
   "execution_count": null,
   "id": "87140b3d-af2a-473b-93a4-29ee5f37cf13",
   "metadata": {},
   "outputs": [],
   "source": [
    "## ----------------------------------------------------------------\n",
    "## Other Data Processing Functions\n",
    "## \n",
    "##    ds.set_active_features (ds.set_inactive_features): set some features to be active or inactive\n",
    "##    ds.set_target: set the target feature\n",
    "##    ds.set_sample_weight: set the sample_weight feature\n",
    "##    ds.set_feature_type: change the feature type\n",
    "##    ds.set_task_type: change task type, including \"Regression\" and \"Classification\"\n",
    "##    ds.set_active_samples (set_inactive_samples): set active samples, used for subsampling or outlier removal\n",
    "##    ds.set_random_split: automatically set train test split (purly random, on (subsampled if exist) \"main\" data)\n",
    "##    ds.set_train_idx: manually set training set index\n",
    "##    ds.set_test_idx: manually set testing set index\n",
    "## ----------------------------------------------------------------\n",
    "\n",
    "## a) set inactive features\n",
    "ds.set_inactive_features(features=['season', 'workingday', 'temp'])\n",
    "\n",
    "## b) set target feature\n",
    "ds.set_target(feature=\"cnt\")\n",
    "\n",
    "## c) set task type\n",
    "ds.set_task_type('Regression')\n",
    "\n",
    "## d) change feature types\n",
    "ds.set_random_split(test_ratio=0.33)"
   ]
  },
  {
   "cell_type": "markdown",
   "id": "ee86b804-5911-4773-9ab1-0a03ecd1d7ab",
   "metadata": {},
   "source": [
    "## 2) Model Modules\n",
    "\n",
    "- Built-in interpretable models: GLM, DecisionTree, GBDT, RandomForest, XGB, LGBM, CatBoost, GAMINet, ReLuDNN, GLMTree, GLMTreeBoost, NeuralTree, MOE\n",
    "- Model Training\n",
    "- Model Tuning\n",
    "- Model Wrapping\n",
    "- Model Interpretability\n",
    "- Model Post-hoc Explainability"
   ]
  },
  {
   "cell_type": "code",
   "execution_count": null,
   "id": "a72b0e36-c53e-49f8-8acd-609abbe5d03f",
   "metadata": {},
   "outputs": [],
   "source": [
    "## ----------------------------------------------------------------\n",
    "## Model Training: e.g. LGBM\n",
    "## ----------------------------------------------------------------\n",
    "\n",
    "from modeva.models import MoLGBMRegressor\n",
    "model_lgbm = MoLGBMRegressor(name=\"LGBM\", max_depth=2, n_estimators=100, verbose=-1)\n",
    "model_lgbm.fit(ds.train_x, ds.train_y.ravel())"
   ]
  },
  {
   "cell_type": "code",
   "execution_count": null,
   "id": "e97590da-662b-4d5c-997f-65a81ce73bf8",
   "metadata": {},
   "outputs": [],
   "source": [
    "## ----------------------------------------------------------------\n",
    "## Model Training: Modeva's native MoE model\n",
    "## ----------------------------------------------------------------\n",
    "\n",
    "from modeva.models import MoMoERegressor\n",
    "model_moe = MoMoERegressor(name=\"MOE\", max_depth=2, n_clusters=5, n_estimators=100, verbose=-1)\n",
    "model_moe.fit(ds.train_x, ds.train_y.ravel())"
   ]
  },
  {
   "cell_type": "code",
   "execution_count": null,
   "id": "5f7096d2-f9b3-4e13-8366-37bc973d9c13",
   "metadata": {},
   "outputs": [],
   "source": [
    "## ----------------------------------------------------------------\n",
    "## Model Tuning: e.g. Random Search\n",
    "## ----------------------------------------------------------------\n",
    "\n",
    "from modeva.models.tune import ModelTuneRandomSearch\n",
    "hyperspace = dict(n_clusters=[2, 3, 4, 5, 6, 7, 8, 9, 10])\n",
    "hpo = ModelTuneRandomSearch(dataset=ds,\n",
    "                            model=MoMoERegressor(verbose=-1))\n",
    "result = hpo.run(param_distributions=hyperspace,\n",
    "                 n_iter=5,\n",
    "                 metric=\"MSE\",\n",
    "                 cv=5,\n",
    "                 random_state=0)\n",
    "result.table"
   ]
  },
  {
   "cell_type": "code",
   "execution_count": null,
   "id": "9177523f-5097-4868-8b08-dbba59be8770",
   "metadata": {},
   "outputs": [],
   "source": [
    "## ----------------------------------------------------------------\n",
    "## Refit the model using selected hyperparameter\n",
    "## ----------------------------------------------------------------\n",
    "import numpy as np\n",
    "best_param_idx = np.where(result.value[\"rank_test_MSE\"] == 1)[0][0]\n",
    "model_moe_tuned = MoMoERegressor(**result.value[\"params\"][best_param_idx],\n",
    "                                 name=\"MoE-Tuned\",\n",
    "                                 verbose=-1)\n",
    "model_moe_tuned.fit(ds.train_x, ds.train_y)\n",
    "model_moe_tuned"
   ]
  },
  {
   "cell_type": "code",
   "execution_count": null,
   "id": "d93a40d0-6d17-4f26-8c83-afa2d8ce3a06",
   "metadata": {},
   "outputs": [],
   "source": [
    "## ----------------------------------------------------------------\n",
    "## Model Wrapping: e.g. pre-trained Sklearn-style model\n",
    "## ----------------------------------------------------------------\n",
    "\n",
    "from xgboost import XGBRegressor\n",
    "from modeva.models import MoSKLearnRegressor, MoSKLearnClassifier\n",
    "model_sk = MoSKLearnRegressor(estimator=XGBRegressor(), name=\"WrappedXGB\") \n",
    "model_sk.fit(ds.train_x, ds.train_y.ravel())"
   ]
  },
  {
   "cell_type": "code",
   "execution_count": null,
   "id": "fc9b63f9-a585-4ac3-924e-bf6d56a862b9",
   "metadata": {},
   "outputs": [],
   "source": [
    "## ----------------------------------------------------------------\n",
    "## Model Interpretability: \n",
    "##    ts.interpret_fi: feature importance\n",
    "##    ts.interpret_ei: effect importance\n",
    "##    ts.interpret_local_fi: local feature importance\n",
    "##    ts.interpret_local_ei: local effect importance\n",
    "##    ts.interpret_effects: global effect plot\n",
    "##\n",
    "## Post-hoc Explainability\n",
    "##    ts.explain_pfi: permutation feature importance\n",
    "##    ts.explain_hstatistic: H-statistic for each pair of features\n",
    "##    ts.explain_pdp: 1D and 2D PDP\n",
    "##    ts.explain_ale: 1D and 2D ALE\n",
    "##    ts.explain_lime: LIME for local explanation\n",
    "##    ts.explain_shap: SHAP for local explanation\n",
    "## ----------------------------------------------------------------\n",
    "\n",
    "## Create a TestSuite that bundles dataset and model\n",
    "from modeva import TestSuite\n",
    "ts = TestSuite(ds, model_lgbm)"
   ]
  },
  {
   "cell_type": "code",
   "execution_count": null,
   "id": "0de4278a-78c1-4bc6-a07c-2c8e2bf41c20",
   "metadata": {},
   "outputs": [],
   "source": [
    "## Global feature importance and effect importance\n",
    "result = ts.interpret_fi()\n",
    "result.plot(figsize=(6, 4))\n",
    "result = ts.interpret_ei()\n",
    "result.plot(figsize=(6, 4))"
   ]
  },
  {
   "cell_type": "code",
   "execution_count": null,
   "id": "3f998e4d-8429-455a-8d75-41def9beae44",
   "metadata": {},
   "outputs": [],
   "source": [
    "## Global effect plots\n",
    "result = ts.interpret_effects(features=\"hr\")\n",
    "result.plot(figsize=(6, 4))\n",
    "result = ts.interpret_effects(features=(\"hr\", \"atemp\"))\n",
    "result.plot(figsize=(6, 5))"
   ]
  },
  {
   "cell_type": "code",
   "execution_count": null,
   "id": "dcfc90e5-b19d-41d9-be1f-d0639c4a358d",
   "metadata": {},
   "outputs": [],
   "source": [
    "## Local feature importance and effect importance\n",
    "result = ts.interpret_local_fi(dataset='test', sample_index=0, centered=True)\n",
    "result.plot(figsize=(6, 4))\n",
    "result = ts.interpret_local_ei(dataset='test', sample_index=0)\n",
    "result.plot(figsize=(6, 4))"
   ]
  },
  {
   "cell_type": "code",
   "execution_count": null,
   "id": "bb3fe680-8e84-4026-a1c0-031523d81a9d",
   "metadata": {},
   "outputs": [],
   "source": [
    "## Post-hoc permutation feature importance\n",
    "result = ts.explain_pfi()\n",
    "result.plot(figsize=(6, 4))"
   ]
  },
  {
   "cell_type": "code",
   "execution_count": null,
   "id": "4bb6de80-a80d-496b-913c-a213eceaf1e5",
   "metadata": {},
   "outputs": [],
   "source": [
    "## Post-hoc H-statistic\n",
    "result = ts.explain_hstatistic(sample_size=1000, grid_resolution=10)\n",
    "result.plot(figsize=(6, 5))"
   ]
  },
  {
   "cell_type": "code",
   "execution_count": null,
   "id": "a9ac1a7e-c20e-4ffa-96a3-3f110339aad1",
   "metadata": {},
   "outputs": [],
   "source": [
    "## Post-hoc partial dependence plots\n",
    "result = ts.explain_pdp(features=\"hr\")\n",
    "result.plot(figsize=(6, 4))\n",
    "result = ts.explain_pdp(features=(\"hr\", \"atemp\"))\n",
    "result.plot(figsize=(6, 5))"
   ]
  },
  {
   "cell_type": "code",
   "execution_count": null,
   "id": "15094144-4eb7-4b34-a492-0e2c18e9d421",
   "metadata": {},
   "outputs": [],
   "source": [
    "## Post-hoc accumulated local effects\n",
    "result = ts.explain_ale(features=(\"hr\", \"atemp\"), dataset=\"train\")\n",
    "result.plot(figsize=(6, 5))"
   ]
  },
  {
   "cell_type": "code",
   "execution_count": null,
   "id": "80a6a077-75dd-4f61-b0b6-9f35bd5e583d",
   "metadata": {},
   "outputs": [],
   "source": [
    "## Post-hoc local explainability (LIME and SHAP)\n",
    "result = ts.explain_lime(dataset=\"test\", sample_index=0, centered=False)\n",
    "result.plot(figsize=(6.5, 4))\n",
    "result = ts.explain_shap(dataset=\"test\", sample_index=0)\n",
    "result.plot(figsize=(6.5, 4))"
   ]
  },
  {
   "cell_type": "markdown",
   "id": "fff1d438-95aa-4951-a876-c8a68fc668c6",
   "metadata": {},
   "source": [
    "## 3) Test Modules\n",
    "\n",
    "- Tests for a single model\n",
    "- Slicing diagnostics\n",
    "- Model benchmarking\n",
    "- Fairness Tests"
   ]
  },
  {
   "cell_type": "code",
   "execution_count": null,
   "id": "eb447712-779f-48a9-889c-43479a2f3706",
   "metadata": {},
   "outputs": [],
   "source": [
    "## ----------------------------------------------------------------\n",
    "## Tests for a single model:\n",
    "##    ts.diagnose_accuracy_table\n",
    "##    ts.diagnose_residual_analysis\n",
    "##    ts.diagnose_residual_interpret\n",
    "##    ts.diagnose_residual_cluster\n",
    "##    ts.diagnose_reliability\n",
    "##    ts.diagnose_robustness\n",
    "##    ts.diagnose_resilience\n",
    "## ----------------------------------------------------------------\n",
    "\n",
    "## Performance metrics\n",
    "result = ts.diagnose_accuracy_table(train_dataset=\"train\", test_dataset=\"test\", metric=None)\n",
    "result.table"
   ]
  },
  {
   "cell_type": "code",
   "execution_count": null,
   "id": "b1430138-2c15-4bb4-b8fe-53eac22f4373",
   "metadata": {},
   "outputs": [],
   "source": [
    "## Residual analysis\n",
    "result = ts.diagnose_residual_analysis(features=\"hr\", dataset=\"test\")\n",
    "result.plot(figsize=(6, 4))"
   ]
  },
  {
   "cell_type": "code",
   "execution_count": null,
   "id": "30a9d367-47e5-4ae3-a68e-99492965aed9",
   "metadata": {},
   "outputs": [],
   "source": [
    "## Residual interpret\n",
    "result = ts.diagnose_residual_interpret(dataset=\"test\")\n",
    "result.plot(figsize=(6, 4))"
   ]
  },
  {
   "cell_type": "code",
   "execution_count": null,
   "id": "3197f459-52f6-4a71-bb4a-af1a98b1c1ff",
   "metadata": {},
   "outputs": [],
   "source": [
    "## Residual analysis\n",
    "result = ts.diagnose_residual_cluster(dataset=\"test\")\n",
    "result.plot(figsize=(6, 4))"
   ]
  },
  {
   "cell_type": "code",
   "execution_count": null,
   "id": "ecbbb138-9dd1-44e5-9d3e-944d12516d0a",
   "metadata": {},
   "outputs": [],
   "source": [
    "## Reliability (prediction set for binary classification; prediction interval for regression)\n",
    "result = ts.diagnose_reliability(train_dataset=\"test\", test_dataset=\"test\",\n",
    "                                 test_size=0.5, random_state=0)\n",
    "result.plot(figsize=(6, 4))"
   ]
  },
  {
   "cell_type": "code",
   "execution_count": null,
   "id": "765b8b56-1b9b-4d8b-be89-67e952f7f654",
   "metadata": {},
   "outputs": [],
   "source": [
    "## Robustness \n",
    "result = ts.diagnose_robustness(dataset=\"test\", perturb_features=None, \n",
    "                                noise_levels=(0.2, 0.4, 0.6, 0.8), metric=\"MAE\")\n",
    "result.plot(figsize=(6, 4))"
   ]
  },
  {
   "cell_type": "code",
   "execution_count": null,
   "id": "7edb029f-3f83-4057-9931-0b6de5b7e377",
   "metadata": {},
   "outputs": [],
   "source": [
    "# Resilience\n",
    "result = ts.diagnose_resilience(method=\"worst-sample\", metric=\"MSE\")\n",
    "result.plot(figsize=(6, 4))"
   ]
  },
  {
   "cell_type": "code",
   "execution_count": null,
   "id": "39787ea1-c87b-407e-9bbe-68f4c240f69b",
   "metadata": {},
   "outputs": [],
   "source": [
    "## ----------------------------------------------------------------\n",
    "## Slicing-based tests:\n",
    "##    ts.diagnose_slicing_fi\n",
    "##    ts.diagnose_slicing_accuracy\n",
    "##    ts.diagnose_slicing_overfit\n",
    "##    ts.diagnose_slicing_reliability\n",
    "##    ts.diagnose_slicing_robustness\n",
    "##    ts.diagnose_slicing_fairness\n",
    "## ----------------------------------------------------------------\n",
    "\n",
    "result = ts.diagnose_slicing_accuracy(features=((\"hr\",), (\"atemp\", ), ), metric=\"MAE\",\n",
    "                                      method=\"quantile\", threshold=None)\n",
    "result.table"
   ]
  },
  {
   "cell_type": "code",
   "execution_count": null,
   "id": "29027054-9347-4276-b4b3-40530c5e4c6d",
   "metadata": {},
   "outputs": [],
   "source": [
    "result = ts.diagnose_slicing_accuracy(features=(\"hr\", \"atemp\"), method=\"uniform\", bins=10,\n",
    "                                      metric=\"MAE\", threshold=0.15)\n",
    "result.plot(figsize=(6, 5))"
   ]
  },
  {
   "cell_type": "code",
   "execution_count": null,
   "id": "25cb658d-5da0-410a-b713-a20d28d7e521",
   "metadata": {},
   "outputs": [],
   "source": [
    "result = ts.diagnose_slicing_overfit(train_dataset=\"train\", test_dataset=\"test\",\n",
    "                                     features=\"hr\", metric=\"MAE\", threshold=None)\n",
    "result.plot(figsize=(6, 5))"
   ]
  },
  {
   "cell_type": "code",
   "execution_count": null,
   "id": "9a9364ad-0b51-4b55-8af7-9ee2c72c6bfa",
   "metadata": {},
   "outputs": [],
   "source": [
    "## ----------------------------------------------------------------\n",
    "## Model bencharmking/comparison tests:\n",
    "##    tsc.compare_accuracy_table\n",
    "##    tsc.compare_robustness\n",
    "##    tsc.compare_reliability\n",
    "##    tsc.compare_resilience\n",
    "##    tsc.compare_slicing_accuracy\n",
    "##    tsc.compare_slicing_overfit\n",
    "##    tsc.compare_slicing_robustness\n",
    "##    tsc.compare_slicing_reliability\n",
    "## ----------------------------------------------------------------\n",
    "\n",
    "## create TestSuite that bundles dataset and multiple models\n",
    "tsc = TestSuite(ds, models=[model_lgbm, model_moe, model_moe_tuned, model_sk])"
   ]
  },
  {
   "cell_type": "code",
   "execution_count": null,
   "id": "ca1978e3-fd53-48c3-b717-299c60274bfe",
   "metadata": {},
   "outputs": [],
   "source": [
    "result = tsc.compare_accuracy_table(train_dataset=\"train\", test_dataset=\"test\", \n",
    "                                    metric=(\"MAE\", \"R2\"))\n",
    "result.plot(figsize=(5, 4))"
   ]
  },
  {
   "cell_type": "code",
   "execution_count": null,
   "id": "9d58fee1-89cf-4b3e-b97d-b841dc98d8d1",
   "metadata": {
    "scrolled": true
   },
   "outputs": [],
   "source": [
    "result = tsc.compare_reliability(train_dataset='test', test_dataset='test',\n",
    "                                 test_size=0.5, alpha=0.1)\n",
    "result.plot(figsize=(6, 4))"
   ]
  },
  {
   "cell_type": "code",
   "execution_count": null,
   "id": "0a6943b2-6fe2-4935-ba96-c1aa95edf77b",
   "metadata": {},
   "outputs": [],
   "source": [
    "result = tsc.compare_resilience(dataset='test', metric=\"MAE\", method='worst-sample')\n",
    "result.plot(figsize=(6, 4))"
   ]
  },
  {
   "cell_type": "code",
   "execution_count": null,
   "id": "e5b54622-562a-4b0b-89ad-3cecdb444ea5",
   "metadata": {},
   "outputs": [],
   "source": [
    "result = tsc.compare_robustness(perturb_features=(\"hr\", \"atemp\", ), noise_levels=(0.2, 0.4, 0.6, 0.8), \n",
    "                                perturb_method=\"quantile\", metric=\"MAE\")\n",
    "result.plot(figsize=(6, 4))"
   ]
  },
  {
   "cell_type": "code",
   "execution_count": null,
   "id": "bf35c5d0-ddd4-4b77-b585-85700c89d958",
   "metadata": {},
   "outputs": [],
   "source": [
    "result = tsc.compare_slicing_accuracy(features=\"hr\", method=\"uniform\", bins=5, metric=\"MAE\")\n",
    "result.plot(figsize=(6, 5))"
   ]
  },
  {
   "cell_type": "code",
   "execution_count": null,
   "id": "089daffa-6635-4b3c-813a-9795ddafa0aa",
   "metadata": {},
   "outputs": [],
   "source": [
    "result = tsc.compare_slicing_overfit(features=\"hr\", method=\"uniform\", bins=5, metric=\"MAE\")\n",
    "result.plot(figsize=(6, 5))"
   ]
  },
  {
   "cell_type": "code",
   "execution_count": null,
   "id": "a1872d62-4bdd-42cc-bb36-fa109419ae1b",
   "metadata": {},
   "outputs": [],
   "source": [
    "result = tsc.compare_slicing_robustness(features=\"hr\", method=\"uniform\", bins=5, \n",
    "                                        perturb_features=(\"hr\", \"atemp\", ),\n",
    "                                        noise_levels=0.2, \n",
    "                                        perturb_method=\"quantile\", metric=\"MAE\")\n",
    "result.plot(figsize=(6, 4))"
   ]
  },
  {
   "cell_type": "code",
   "execution_count": null,
   "id": "d86185aa-d764-4311-91b1-fe614e752590",
   "metadata": {},
   "outputs": [],
   "source": [
    "result = tsc.compare_slicing_reliability(features=\"hr\", method=\"uniform\", bins=5, \n",
    "                                         train_dataset='test', test_dataset='test',\n",
    "                                         test_size=0.5, alpha=0.1)\n",
    "result.plot(figsize=(6, 4))"
   ]
  }
 ],
 "metadata": {
  "kernelspec": {
   "display_name": "Python 3 (ipykernel)",
   "language": "python",
   "name": "python3"
  },
  "language_info": {
   "codemirror_mode": {
    "name": "ipython",
    "version": 3
   },
   "file_extension": ".py",
   "mimetype": "text/x-python",
   "name": "python",
   "nbconvert_exporter": "python",
   "pygments_lexer": "ipython3",
   "version": "3.11.9"
  },
  "widgets": {
   "application/vnd.jupyter.widget-state+json": {
    "state": {
     "38e07a9db66942fc80d051c5b06e0cb6": {
      "model_module": "jupyter-vuetify",
      "model_module_version": "^1.9.4",
      "model_name": "ThemeModel",
      "state": {
       "_model_module_version": "^1.9.4",
       "_view_module": null,
       "_view_module_version": "^1.9.4",
       "dark_effective": false
      }
     },
     "487de153ab834f3db3548e664519aa52": {
      "model_module": "@jupyter-widgets/base",
      "model_module_version": "2.0.0",
      "model_name": "LayoutModel",
      "state": {}
     },
     "804126bd0d8145adb4bda58a1116d85a": {
      "model_module": "jupyter-vue",
      "model_module_version": "^1.11.1",
      "model_name": "ForceLoadModel",
      "state": {
       "_model_module_version": "^1.11.1",
       "_view_module": null,
       "_view_module_version": "",
       "layout": "IPY_MODEL_487de153ab834f3db3548e664519aa52"
      }
     },
     "8c6b7485f3424322a02dd39cb1ef2186": {
      "model_module": "jupyter-vuetify",
      "model_module_version": "^1.9.4",
      "model_name": "ThemeColorsModel",
      "state": {
       "_model_module_version": "^1.9.4",
       "_theme_name": "light",
       "_view_module": null,
       "_view_module_version": "^1.9.4",
       "accent": "#82B1FF",
       "error": "#FF5252",
       "info": "#2196F3",
       "primary": "#1976D2",
       "secondary": "#424242",
       "success": "#4CAF50",
       "warning": "#FB8C00"
      }
     },
     "d20be36d55a642cda7b159c09b8981f4": {
      "model_module": "jupyter-vuetify",
      "model_module_version": "^1.9.4",
      "model_name": "ThemeColorsModel",
      "state": {
       "_model_module_version": "^1.9.4",
       "_theme_name": "dark",
       "_view_module": null,
       "_view_module_version": "^1.9.4",
       "accent": "#FF4081",
       "error": "#FF5252",
       "info": "#2196F3",
       "primary": "#2196F3",
       "secondary": "#424242",
       "success": "#4CAF50",
       "warning": "#FB8C00"
      }
     }
    },
    "version_major": 2,
    "version_minor": 0
   }
  }
 },
 "nbformat": 4,
 "nbformat_minor": 5
}
