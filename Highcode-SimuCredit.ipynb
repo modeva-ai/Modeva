{
 "cells": [
  {
   "cell_type": "markdown",
   "id": "f7e37ad1-cc7f-4f63-ba7b-015e83b5035e",
   "metadata": {},
   "source": [
    "# Highcode Example: Experimentation based on SimuCredit Data"
   ]
  },
  {
   "cell_type": "markdown",
   "id": "18a3e4a2-41e6-43c4-b3de-758445d9b0ed",
   "metadata": {},
   "source": [
    "## 0) Setting up Modeva"
   ]
  },
  {
   "cell_type": "code",
   "execution_count": null,
   "id": "ce8fb1d9-60a5-4c40-9d77-dcc45cc79d05",
   "metadata": {},
   "outputs": [],
   "source": [
    "## =============================================================\n",
    "## Install or update packages(recommended to run in Terminal)\n",
    "## =============================================================\n",
    "!pip show modeva\n",
    "# !pip uninstall modeva\n",
    "#!pip install modeva"
   ]
  },
  {
   "cell_type": "markdown",
   "id": "a434bfac-fae1-400e-ae3f-075933e7b736",
   "metadata": {},
   "source": [
    "## 1) Data Modules\n",
    "\n",
    "- Data Loading\n",
    "- Data Summary\n",
    "- Exploratory Data Analysis (EDA)\n",
    "- Data Processing"
   ]
  },
  {
   "cell_type": "code",
   "execution_count": null,
   "id": "48993487-80d4-4e6d-bc7a-21edd2cd6350",
   "metadata": {},
   "outputs": [],
   "source": [
    "## Create an instance of DataSet class\n",
    "from modeva import DataSet\n",
    "ds = DataSet()"
   ]
  },
  {
   "cell_type": "code",
   "execution_count": null,
   "id": "326f7f12-c3cb-4c29-b23c-1ca27a1760d3",
   "metadata": {},
   "outputs": [],
   "source": [
    "## ----------------------------------------------------------------\n",
    "## Data Loading: a) built-in data; b) user data\n",
    "## ----------------------------------------------------------------\n",
    "\n",
    "## a) Load built-in data: \"BikeSharing\", \"CaliforniaHousing\", \"SimuCredit\", \"TaiwanCredit\"\n",
    "ds.load(\"SimuCredit\")\n",
    "ds"
   ]
  },
  {
   "cell_type": "code",
   "execution_count": null,
   "id": "a652d0f9-1bf7-49f5-aaec-ee9cb9f2490d",
   "metadata": {},
   "outputs": [],
   "source": [
    "## b) Load user data as pandas dataframe\n",
    "\n",
    "# import pandas as pd\n",
    "# data = pd.read_csv(\"SimuCredit.csv\")\n",
    "# ds = DataSet()\n",
    "# ds.load_dataframe(data)"
   ]
  },
  {
   "cell_type": "code",
   "execution_count": null,
   "id": "1c8b9e0e-158d-4eb3-8485-e5f22e4fcef6",
   "metadata": {},
   "outputs": [],
   "source": [
    "## ----------------------------------------------------------------\n",
    "## Data Summary: descriptive statistics\n",
    "## ----------------------------------------------------------------\n",
    "\n",
    "result = ds.summary()"
   ]
  },
  {
   "cell_type": "code",
   "execution_count": null,
   "id": "91d02333-2d68-45ba-85fa-2a295783cb20",
   "metadata": {},
   "outputs": [],
   "source": [
    "## Overall data summary\n",
    "result.table[\"summary\"]"
   ]
  },
  {
   "cell_type": "code",
   "execution_count": null,
   "id": "32a2a3aa-c601-47e4-afd4-3f5760f97461",
   "metadata": {},
   "outputs": [],
   "source": [
    "## Summary of numerical features\n",
    "result.table[\"numerical\"]"
   ]
  },
  {
   "cell_type": "code",
   "execution_count": null,
   "id": "51ec3adb-9c30-458a-b1bd-a9266f597397",
   "metadata": {},
   "outputs": [],
   "source": [
    "## Summary of categorical features\n",
    "result.table[\"categorical\"]"
   ]
  },
  {
   "cell_type": "code",
   "execution_count": null,
   "id": "7f196355-521e-4f37-bd5f-5886dc3b53b3",
   "metadata": {},
   "outputs": [],
   "source": [
    "## ----------------------------------------------------------------\n",
    "## Exploratory Data Analysis (EDA): 1d, 2d, 3d, correlation, pca, umap\n",
    "## ----------------------------------------------------------------\n",
    "\n",
    "result = ds.eda_1d(feature=\"Balance\", plot_type=\"density\")\n",
    "result.plot(figsize=(5, 4))\n",
    "result = ds.eda_1d(feature=\"Balance\", plot_type=\"histogram\")\n",
    "result.plot(figsize=(5, 4))"
   ]
  },
  {
   "cell_type": "code",
   "execution_count": null,
   "id": "63e377e1-f51c-4360-895a-19238f4785cd",
   "metadata": {},
   "outputs": [],
   "source": [
    "## 2D plots: pair of numerical features\n",
    "result = ds.eda_2d(feature_x=\"Balance\", feature_y=\"Mortgage\", feature_color=\"Race\",\n",
    "                   sample_size=300, smoother_order=None)\n",
    "result.plot(figsize=(5, 4))"
   ]
  },
  {
   "cell_type": "code",
   "execution_count": null,
   "id": "6f7d681c-923f-428b-90de-63788c3ec1ce",
   "metadata": {},
   "outputs": [],
   "source": [
    "## 2D plots: pair of categorical features\n",
    "result = ds.eda_2d(feature_x=\"Race\", feature_y=\"Gender\")\n",
    "result.plot(figsize=(5, 4))"
   ]
  },
  {
   "cell_type": "code",
   "execution_count": null,
   "id": "93a57b28-9e1f-4f22-9af5-7127ae8b9e2e",
   "metadata": {},
   "outputs": [],
   "source": [
    "## 2D plots: numerical and categorical features\n",
    "result = ds.eda_2d(feature_x=\"Balance\", feature_y=\"Gender\")\n",
    "result.plot(figsize=(5, 4))"
   ]
  },
  {
   "cell_type": "code",
   "execution_count": null,
   "id": "472195b9-da9a-4494-857e-abc5a6ea4d32",
   "metadata": {},
   "outputs": [],
   "source": [
    "## 3D Scatter Plot\n",
    "result = ds.eda_3d(feature_x=\"Mortgage\", feature_y=\"Balance\", feature_z=\"Utilization\",\n",
    "                   feature_color=\"Status\", sample_size=300)\n",
    "result.plot(figsize=(6, 5))"
   ]
  },
  {
   "cell_type": "code",
   "execution_count": null,
   "id": "57f2e026-24d4-4ef1-954f-ecbf3ad17bbb",
   "metadata": {},
   "outputs": [],
   "source": [
    "## Correlation Heatmap\n",
    "result = ds.eda_correlation(features=('Mortgage',\n",
    "                                      'Balance',\n",
    "                                      'Amount Past Due',\n",
    "                                      'Delinquency',\n",
    "                                      'Inquiry',\n",
    "                                      'Open Trade',\n",
    "                                      'Utilization'), sample_size=10000)\n",
    "result.plot(figsize=(5, 5))"
   ]
  },
  {
   "cell_type": "code",
   "execution_count": null,
   "id": "74299198-6005-4154-8e62-7ac1f3ced749",
   "metadata": {},
   "outputs": [],
   "source": [
    "## PCA - Dimension Reduction\n",
    "result = ds.eda_pca(features=('Mortgage',\n",
    "                              'Balance',\n",
    "                              'Amount Past Due',\n",
    "                              'Delinquency',\n",
    "                              'Inquiry',\n",
    "                              'Open Trade',\n",
    "                              'Utilization'), n_components=5)\n",
    "result.plot(figsize=(5, 6))"
   ]
  },
  {
   "cell_type": "code",
   "execution_count": null,
   "id": "3222acee-a52c-428d-9278-972077ddff75",
   "metadata": {},
   "outputs": [],
   "source": [
    "## ----------------------------------------------------------------\n",
    "## Data Preprocessing and Feature Engineering\n",
    "## \n",
    "##    ds.impute_missing: missing value imputation\n",
    "##    ds.scale_numerical: scaling, standardization of numerical features\n",
    "##    ds.encode_categorical: one-hot encoding or ordinal encoding for categorical features\n",
    "##    ds.bin_numerical: binning numerical features into discrete bins\n",
    "##\n",
    "## Upon calling these functions, no results will be returned. \n",
    "## Data processing will be executed by running ds.preprocess(). \n",
    "## To reset preprocessing steps, run ds.reset_preprocess().\n",
    "## ----------------------------------------------------------------\n",
    "\n",
    "## First of all, reset all preprocessing steps\n",
    "ds.reset_preprocess()\n",
    "\n",
    "## a) data imputation\n",
    "ds.impute_missing()\n",
    "\n",
    "## b) scaling for numerical features\n",
    "ds.scale_numerical(method=\"minmax\")\n",
    "\n",
    "## c) encoding for numerical features\n",
    "ds.encode_categorical(features=(\"Race\", \"Gender\"), method=\"ordinal\")\n",
    "\n",
    "## d) binning for numerical features\n",
    "ds.bin_numerical(features=(\"Amount Past Due\", ), bins=10, method=\"uniform\")\n",
    "\n",
    "## e) execute all preprocessing steps\n",
    "ds.preprocess()\n",
    "\n",
    "## Display the preprocessed data\n",
    "ds.data"
   ]
  },
  {
   "cell_type": "code",
   "execution_count": null,
   "id": "07683032-0dad-4d6e-9504-f5e0b697fbab",
   "metadata": {},
   "outputs": [],
   "source": [
    "## Compare to the raw data\n",
    "ds.raw_data"
   ]
  },
  {
   "cell_type": "code",
   "execution_count": null,
   "id": "87140b3d-af2a-473b-93a4-29ee5f37cf13",
   "metadata": {},
   "outputs": [],
   "source": [
    "## ----------------------------------------------------------------\n",
    "## Other Data Processing Functions\n",
    "## \n",
    "##    ds.set_active_features (ds.set_inactive_features): set some features to be active or inactive\n",
    "##    ds.set_target: set the target feature\n",
    "##    ds.set_sample_weight: set the sample_weight feature\n",
    "##    ds.set_feature_type: change the feature type\n",
    "##    ds.set_task_type: change task type, including \"Regression\" and \"Classification\"\n",
    "##    ds.set_active_samples (set_inactive_samples): set active samples, used for subsampling or outlier removal\n",
    "##    ds.set_random_split: automatically set train test split (purly random, on (subsampled if exist) \"main\" data)\n",
    "##    ds.set_train_idx: manually set training set index\n",
    "##    ds.set_test_idx: manually set testing set index\n",
    "## ----------------------------------------------------------------\n",
    "\n",
    "## a) set inactive features\n",
    "ds.set_inactive_features(features=['Race', 'Gender'])\n",
    "\n",
    "## b) set target feature\n",
    "ds.set_target(feature=\"Status\")\n",
    "\n",
    "## c) set task type\n",
    "ds.set_task_type('Classification')\n",
    "\n",
    "## d) change feature types\n",
    "ds.set_random_split(test_ratio=0.33)"
   ]
  },
  {
   "cell_type": "markdown",
   "id": "ee86b804-5911-4773-9ab1-0a03ecd1d7ab",
   "metadata": {},
   "source": [
    "## 2) Model Modules\n",
    "\n",
    "- Built-in interpretable models: GLM, DecisionTree, GBDT, RandomForest, XGB, LGBM, CatBoost, GAMINet, ReLuDNN, GLMTree, GLMTreeBoost, NeuralTree, MOE\n",
    "- Model Training\n",
    "- Model Tuning\n",
    "- Model Wrapping\n",
    "- Model Interpretability\n",
    "- Model Post-hoc Explainability"
   ]
  },
  {
   "cell_type": "code",
   "execution_count": null,
   "id": "a72b0e36-c53e-49f8-8acd-609abbe5d03f",
   "metadata": {},
   "outputs": [],
   "source": [
    "## ----------------------------------------------------------------\n",
    "## Model Training: e.g. LGBM\n",
    "## ----------------------------------------------------------------\n",
    "\n",
    "from modeva.models import MoLGBMClassifier\n",
    "model = MoLGBMClassifier(name=\"LGBM\", max_depth=2, n_estimators=100, verbose=-1)\n",
    "model.fit(ds.train_x, ds.train_y.ravel())"
   ]
  },
  {
   "cell_type": "code",
   "execution_count": null,
   "id": "34a5f96b-a244-4004-a566-7c2fc8b90206",
   "metadata": {},
   "outputs": [],
   "source": [
    "## ----------------------------------------------------------------\n",
    "## Model Tuning: e.g. Random Search\n",
    "## ----------------------------------------------------------------\n",
    "\n",
    "from modeva.models.tune import ModelTuneRandomSearch\n",
    "from scipy.stats import loguniform \n",
    "hyperspace = dict(eta=loguniform(a=2**(-5), b=1.0),\n",
    "                  max_depth=[1, 2, 3, 4, 5])\n",
    "hpo = ModelTuneRandomSearch(dataset=ds,\n",
    "                            model=MoLGBMClassifier(verbose=-1))\n",
    "result = hpo.run(param_distributions=hyperspace,\n",
    "                 n_iter=10,\n",
    "                 metric=\"AUC\",\n",
    "                 cv=5,\n",
    "                 random_state=0)\n",
    "result.table"
   ]
  },
  {
   "cell_type": "code",
   "execution_count": null,
   "id": "c1d00406-0bfb-48ba-b0ec-36d0d3f64cd2",
   "metadata": {},
   "outputs": [],
   "source": [
    "## ----------------------------------------------------------------\n",
    "## Refit the model using selected hyperparameter\n",
    "## ----------------------------------------------------------------\n",
    "model_tuned = MoLGBMClassifier(**result.value[\"params\"][5],\n",
    "                               name=\"LGMB-Tuned\",\n",
    "                               verbose=-1)\n",
    "model_tuned.fit(ds.train_x, ds.train_y)\n",
    "model_tuned"
   ]
  },
  {
   "cell_type": "code",
   "execution_count": null,
   "id": "d90648e8-2bc0-4c8f-8f91-76e8f0860b81",
   "metadata": {},
   "outputs": [],
   "source": [
    "## ----------------------------------------------------------------\n",
    "## Model Wrapping: e.g. pre-trained Sklearn-style model\n",
    "## ----------------------------------------------------------------\n",
    "\n",
    "from xgboost import XGBClassifier\n",
    "from modeva.models import MoSKLearnRegressor, MoSKLearnClassifier\n",
    "model_sk = MoSKLearnClassifier(estimator=XGBClassifier(), name=\"WrappedXGB\") \n",
    "model_sk.fit(ds.train_x, ds.train_y.ravel())"
   ]
  },
  {
   "cell_type": "code",
   "execution_count": null,
   "id": "fc9b63f9-a585-4ac3-924e-bf6d56a862b9",
   "metadata": {},
   "outputs": [],
   "source": [
    "## ----------------------------------------------------------------\n",
    "## Model Interpretability: \n",
    "##    fs.interpret_fi: feature importance\n",
    "##    fs.interpret_ei: effect importance\n",
    "##    fs.interpret_local_fi: local feature importance\n",
    "##    fs.interpret_local_ei: local effect importance\n",
    "##    fs.interpret_effects: global effect plot\n",
    "##\n",
    "## Post-hoc Explainability\n",
    "##    fs.explain_pfi: permutation feature importance\n",
    "##    fs.explain_hstatistic: H-statistic for each pair of features\n",
    "##    fs.explain_pdp: 1D and 2D PDP\n",
    "##    fs.explain_ale: 1D and 2D ALE\n",
    "##    fs.explain_lime: LIME for local explanation\n",
    "##    fs.explain_shap: SHAP for local explanation\n",
    "## ----------------------------------------------------------------\n",
    "\n",
    "## Create a factsheet that bundles dataset and model\n",
    "from modeva import FactSheet\n",
    "fs = FactSheet(ds, model)"
   ]
  },
  {
   "cell_type": "code",
   "execution_count": null,
   "id": "0de4278a-78c1-4bc6-a07c-2c8e2bf41c20",
   "metadata": {},
   "outputs": [],
   "source": [
    "## Global feature importance and effect importance\n",
    "result = fs.interpret_fi()\n",
    "result.plot(figsize=(6, 4))\n",
    "result = fs.interpret_ei()\n",
    "result.plot(figsize=(6, 4))"
   ]
  },
  {
   "cell_type": "code",
   "execution_count": null,
   "id": "3f998e4d-8429-455a-8d75-41def9beae44",
   "metadata": {},
   "outputs": [],
   "source": [
    "## Global effect plots\n",
    "result = fs.interpret_effects(features=\"Delinquency\")\n",
    "result.plot(figsize=(6, 4))\n",
    "result = fs.interpret_effects(features=(\"Delinquency\", \"Utilization\"))\n",
    "result.plot(figsize=(6, 5))"
   ]
  },
  {
   "cell_type": "code",
   "execution_count": null,
   "id": "dcfc90e5-b19d-41d9-be1f-d0639c4a358d",
   "metadata": {},
   "outputs": [],
   "source": [
    "## Local feature importance and effect importance\n",
    "result = fs.interpret_local_fi(dataset='test', sample_index=0, centered=True)\n",
    "result.plot(figsize=(6, 4))\n",
    "result = fs.interpret_local_ei(dataset='test', sample_index=0)\n",
    "result.plot(figsize=(6, 4))"
   ]
  },
  {
   "cell_type": "code",
   "execution_count": null,
   "id": "bb3fe680-8e84-4026-a1c0-031523d81a9d",
   "metadata": {},
   "outputs": [],
   "source": [
    "## Post-hoc permutation feature importance\n",
    "result = fs.explain_pfi()\n",
    "result.plot(figsize=(6, 4))"
   ]
  },
  {
   "cell_type": "code",
   "execution_count": null,
   "id": "4bb6de80-a80d-496b-913c-a213eceaf1e5",
   "metadata": {},
   "outputs": [],
   "source": [
    "## Post-hoc H-statistic\n",
    "result = fs.explain_hstatistic(sample_size=1000, grid_resolution=10)\n",
    "result.plot(figsize=(6, 5))"
   ]
  },
  {
   "cell_type": "code",
   "execution_count": null,
   "id": "a9ac1a7e-c20e-4ffa-96a3-3f110339aad1",
   "metadata": {},
   "outputs": [],
   "source": [
    "## Post-hoc partial dependence plots\n",
    "result = fs.explain_pdp(features=\"Delinquency\")\n",
    "result.plot(figsize=(6, 4))\n",
    "result = fs.explain_pdp(features=(\"Delinquency\", \"Utilization\"))\n",
    "result.plot(figsize=(6, 5))"
   ]
  },
  {
   "cell_type": "code",
   "execution_count": null,
   "id": "15094144-4eb7-4b34-a492-0e2c18e9d421",
   "metadata": {},
   "outputs": [],
   "source": [
    "## Post-hoc accumulated local effects\n",
    "result = fs.explain_ale(features=(\"Delinquency\", \"Utilization\"), dataset=\"train\")\n",
    "result.plot(figsize=(6, 5))"
   ]
  },
  {
   "cell_type": "code",
   "execution_count": null,
   "id": "80a6a077-75dd-4f61-b0b6-9f35bd5e583d",
   "metadata": {},
   "outputs": [],
   "source": [
    "## Post-hoc local explainability (LIME and SHAP)\n",
    "result = fs.explain_lime(dataset=\"test\", sample_index=0, centered=False)\n",
    "result.plot(figsize=(6.5, 4))\n",
    "result = fs.explain_shap(dataset=\"test\", sample_index=0)\n",
    "result.plot(figsize=(6.5, 4))"
   ]
  },
  {
   "cell_type": "markdown",
   "id": "fff1d438-95aa-4951-a876-c8a68fc668c6",
   "metadata": {},
   "source": [
    "## 3) Test Modules\n",
    "\n",
    "- Tests for a single model\n",
    "- Slicing diagnostics\n",
    "- Model benchmarking\n",
    "- Fairness Tests"
   ]
  },
  {
   "cell_type": "code",
   "execution_count": null,
   "id": "eb447712-779f-48a9-889c-43479a2f3706",
   "metadata": {},
   "outputs": [],
   "source": [
    "## ----------------------------------------------------------------\n",
    "## Tests for a single model:\n",
    "##    fs.diagnose_accuracy_table\n",
    "##    fs.diagnose_residual_analysis\n",
    "##    fs.diagnose_reliability\n",
    "##    fs.diagnose_robustness\n",
    "##    fs.diagnose_resilience\n",
    "## ----------------------------------------------------------------\n",
    "\n",
    "## Performance metrics\n",
    "result = fs.diagnose_accuracy_table(train_dataset=\"train\", test_dataset=\"test\", metric=None)\n",
    "result.table"
   ]
  },
  {
   "cell_type": "code",
   "execution_count": null,
   "id": "b1430138-2c15-4bb4-b8fe-53eac22f4373",
   "metadata": {},
   "outputs": [],
   "source": [
    "## Residual analysis\n",
    "result = fs.diagnose_residual_analysis(features=\"Balance\", dataset=\"test\")\n",
    "result.plot(figsize=(6, 4))"
   ]
  },
  {
   "cell_type": "code",
   "execution_count": null,
   "id": "ecbbb138-9dd1-44e5-9d3e-944d12516d0a",
   "metadata": {},
   "outputs": [],
   "source": [
    "## Reliability (Venn-amber prediction for binary classification; Conformal prediction for regression)\n",
    "result = fs.diagnose_reliability(train_dataset=\"test\", test_dataset=\"test\",\n",
    "                                  test_size=0.5, random_state=0)\n",
    "result.plot(figsize=(6, 4))"
   ]
  },
  {
   "cell_type": "code",
   "execution_count": null,
   "id": "765b8b56-1b9b-4d8b-be89-67e952f7f654",
   "metadata": {},
   "outputs": [],
   "source": [
    "## Robustness \n",
    "result = fs.diagnose_robustness(dataset=\"test\", perturb_features=None, \n",
    "                                noise_levels=(0.2, 0.4, 0.6, 0.8), metric=\"ACC\")\n",
    "result.plot(figsize=(6, 4))"
   ]
  },
  {
   "cell_type": "code",
   "execution_count": null,
   "id": "7edb029f-3f83-4057-9931-0b6de5b7e377",
   "metadata": {},
   "outputs": [],
   "source": [
    "# Resilience\n",
    "result = fs.diagnose_resilience(method=\"worst-sample\", metric=\"AUC\")\n",
    "result.plot(figsize=(6, 4))"
   ]
  },
  {
   "cell_type": "code",
   "execution_count": null,
   "id": "39787ea1-c87b-407e-9bbe-68f4c240f69b",
   "metadata": {},
   "outputs": [],
   "source": [
    "## ----------------------------------------------------------------\n",
    "## Slicing-based tests:\n",
    "##    fs.diagnose_slicing_fi\n",
    "##    fs.diagnose_slicing_accuracy\n",
    "##    fs.diagnose_slicing_overfit\n",
    "##    fs.diagnose_slicing_reliability\n",
    "##    fs.diagnose_slicing_robustness\n",
    "##    fs.diagnose_slicing_fairness\n",
    "## ----------------------------------------------------------------\n",
    "\n",
    "result = fs.diagnose_residual_fi(method=\"uniform\")\n",
    "result.plot(figsize=(6, 4))"
   ]
  },
  {
   "cell_type": "code",
   "execution_count": null,
   "id": "ca986fc0-6f73-436a-a846-2b01acd65526",
   "metadata": {},
   "outputs": [],
   "source": [
    "result = fs.diagnose_slicing_accuracy(features=((\"Mortgage\",), (\"Utilization\", ), ), metric=\"AUC\",\n",
    "                                      method=\"quantile\", threshold=None)\n",
    "result.table"
   ]
  },
  {
   "cell_type": "code",
   "execution_count": null,
   "id": "29027054-9347-4276-b4b3-40530c5e4c6d",
   "metadata": {},
   "outputs": [],
   "source": [
    "result = fs.diagnose_slicing_accuracy(features=(\"Mortgage\", \"Utilization\"), method=\"uniform\", bins=10,\n",
    "                                      metric=\"ACC\", threshold=0.5)\n",
    "result.plot(figsize=(6, 5))"
   ]
  },
  {
   "cell_type": "code",
   "execution_count": null,
   "id": "25cb658d-5da0-410a-b713-a20d28d7e521",
   "metadata": {},
   "outputs": [],
   "source": [
    "result = fs.diagnose_slicing_overfit(train_dataset=\"train\", test_dataset=\"test\",\n",
    "                                     features=\"Mortgage\", metric=\"AUC\", threshold=None)\n",
    "result.plot(figsize=(6, 5))"
   ]
  },
  {
   "cell_type": "code",
   "execution_count": null,
   "id": "9a9364ad-0b51-4b55-8af7-9ee2c72c6bfa",
   "metadata": {},
   "outputs": [],
   "source": [
    "## ----------------------------------------------------------------\n",
    "## Model bencharmking/comparison tests:\n",
    "##    fsc.compare_accuracy_table\n",
    "##    fsc.compare_robustness\n",
    "##    fsc.compare_reliability\n",
    "##    fsc.compare_resilience\n",
    "## ----------------------------------------------------------------\n",
    "\n",
    "## create FactSheet that bundles dataset and multiple models\n",
    "fsc = FactSheet(ds, models=[model, model_sk])"
   ]
  },
  {
   "cell_type": "code",
   "execution_count": null,
   "id": "ca1978e3-fd53-48c3-b717-299c60274bfe",
   "metadata": {},
   "outputs": [],
   "source": [
    "result = fsc.compare_accuracy_table(train_dataset=\"train\", test_dataset=\"test\", \n",
    "                                    metric=(\"AUC\", \"LogLoss\"))\n",
    "result.plot(figsize=(5, 4))"
   ]
  },
  {
   "cell_type": "code",
   "execution_count": null,
   "id": "a9454b09-f726-4f4d-b892-f4badb136fc4",
   "metadata": {},
   "outputs": [],
   "source": [
    "result = fsc.compare_robustness(perturb_features=(\"Balance\", \"Mortgage\", ), noise_levels=(0.2, 0.4, 0.6, 0.8), \n",
    "                                perturb_method=\"quantile\", metric=\"AUC\")\n",
    "result.plot(figsize=(6, 4))"
   ]
  },
  {
   "cell_type": "code",
   "execution_count": null,
   "id": "bf35c5d0-ddd4-4b77-b585-85700c89d958",
   "metadata": {},
   "outputs": [],
   "source": [
    "result = fsc.compare_slicing_accuracy(features=\"Utilization\", method=\"uniform\", bins=5, metric=\"AUC\")\n",
    "result.plot(figsize=(6, 5))"
   ]
  },
  {
   "cell_type": "code",
   "execution_count": null,
   "id": "089daffa-6635-4b3c-813a-9795ddafa0aa",
   "metadata": {},
   "outputs": [],
   "source": [
    "result = fsc.compare_slicing_overfit(features=\"Utilization\", method=\"uniform\", bins=5, metric=\"AUC\")\n",
    "result.plot(figsize=(6, 5))"
   ]
  },
  {
   "cell_type": "code",
   "execution_count": null,
   "id": "462b2445-c943-4c7b-a2e8-140e8cda9bb1",
   "metadata": {},
   "outputs": [],
   "source": [
    "## ----------------------------------------------------------------\n",
    "## Fairness Tests\n",
    "##    fs.diagnose_fairness\n",
    "##    fs.diagnose_slicing_fairness\n",
    "##    fsc.compare_fairness\n",
    "##    fsc.compare_slicing_fairness\n",
    "##    fs.diagnose_mitigate_unfair_thresholding\n",
    "##    fs.diagnose_mitigate_unfair_binning\n",
    "## ----------------------------------------------------------------\n",
    "\n",
    "## set protected data using pd.dataframe (in practice, modeling data and demographic data should be in separated files)\n",
    "ds.set_protected_data(ds.raw_data[[\"Race\", \"Gender\"]])"
   ]
  },
  {
   "cell_type": "code",
   "execution_count": null,
   "id": "75510898-5e11-480c-9595-9c0600f527b4",
   "metadata": {},
   "outputs": [],
   "source": [
    "group_config = {\n",
    "    \"Race\": {\"feature\": \"Race\",\n",
    "             \"protected\": 0.0,\n",
    "             \"reference\": 1.0},\n",
    "    \"Gender\": {\"feature\": \"Gender\",\n",
    "               \"protected\": 0.0,\n",
    "               \"reference\": 1.0}\n",
    "}"
   ]
  },
  {
   "cell_type": "code",
   "execution_count": null,
   "id": "e2b416fa-8ad6-4e04-b38f-7819932155ab",
   "metadata": {},
   "outputs": [],
   "source": [
    "result = fs.diagnose_fairness(dataset=\"train\",\n",
    "                              group_config=group_config,\n",
    "                              favorable_label=1,\n",
    "                              metric=\"AIR\",\n",
    "                              threshold=0.8)\n",
    "result.plot(figsize=(6, 5))"
   ]
  },
  {
   "cell_type": "code",
   "execution_count": null,
   "id": "5d32eb7e-db3f-44ff-98b7-fcc0aec76a99",
   "metadata": {},
   "outputs": [],
   "source": [
    "result = fs.diagnose_slicing_fairness(features=\"Balance\",\n",
    "                                      dataset=\"train\",\n",
    "                                      group_config=group_config,\n",
    "                                      favorable_label=1,\n",
    "                                      metric=\"AIR\",\n",
    "                                      threshold=None)\n",
    "result.plot(figsize=(6, 5))"
   ]
  },
  {
   "cell_type": "code",
   "execution_count": null,
   "id": "75b7ee88-659b-4d62-9273-96c0c8617d3f",
   "metadata": {},
   "outputs": [],
   "source": [
    "result = fsc.compare_fairness(dataset=\"train\",\n",
    "                              group_config=group_config,\n",
    "                              favorable_label=1,\n",
    "                              metric=\"AIR\",\n",
    "                              threshold=0.8)\n",
    "result.plot(figsize=(6, 4))"
   ]
  },
  {
   "cell_type": "code",
   "execution_count": null,
   "id": "1ac4cfb0-7028-4a64-bc9a-a4588bbcfd05",
   "metadata": {},
   "outputs": [],
   "source": [
    "result = fs.diagnose_mitigate_unfair_thresholding(group_config=group_config,\n",
    "                                                  favorable_label=1,\n",
    "                                                  dataset=\"train\",\n",
    "                                                  metric=\"PR\",\n",
    "                                                  proba_cutoff=(0.1, 0.2, 0.3, 0.4, 0.5, 0.6, 0.7, 0.8, 0.9))\n",
    "result.plot(figsize=(6, 4))"
   ]
  }
 ],
 "metadata": {
  "kernelspec": {
   "display_name": "Python 3 (ipykernel)",
   "language": "python",
   "name": "python3"
  },
  "language_info": {
   "codemirror_mode": {
    "name": "ipython",
    "version": 3
   },
   "file_extension": ".py",
   "mimetype": "text/x-python",
   "name": "python",
   "nbconvert_exporter": "python",
   "pygments_lexer": "ipython3",
   "version": "3.11.9"
  },
  "widgets": {
   "application/vnd.jupyter.widget-state+json": {
    "state": {},
    "version_major": 2,
    "version_minor": 0
   }
  }
 },
 "nbformat": 4,
 "nbformat_minor": 5
}
