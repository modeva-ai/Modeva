{
 "cells": [
  {
   "cell_type": "markdown",
   "id": "3b0858c6-ed32-495c-a994-29b864e1dcac",
   "metadata": {},
   "source": [
    "# Pipeline Example: Experimentation based on CaliforniaHousing Data"
   ]
  },
  {
   "cell_type": "markdown",
   "id": "b468bc68-15aa-41a2-be17-d735d4d0100d",
   "metadata": {},
   "source": [
    "## 0) Setting up Modeva"
   ]
  },
  {
   "cell_type": "code",
   "execution_count": null,
   "id": "e8b05993-50d2-4faf-a77e-21f63f0fad7f",
   "metadata": {},
   "outputs": [],
   "source": [
    "## =============================================================\n",
    "## Install or update packages(recommended to run in Terminal)\n",
    "## =============================================================\n",
    "!pip show modeva\n",
    "# !pip uninstall modeva\n",
    "#!pip install modeva"
   ]
  },
  {
   "cell_type": "markdown",
   "id": "be904a93-9e7e-42a5-ae9e-5af4fe35cc4a",
   "metadata": {},
   "source": [
    "## 1) Build a Target Model without Modeva "
   ]
  },
  {
   "cell_type": "code",
   "execution_count": null,
   "id": "446581fd-0104-4dd7-9b47-076d2b29705c",
   "metadata": {},
   "outputs": [],
   "source": [
    "from xgboost import XGBRegressor\n",
    "from sklearn.datasets import fetch_california_housing\n",
    "from sklearn.model_selection import train_test_split\n",
    "\n",
    "data = fetch_california_housing()\n",
    "## split 3000 samples to represent OOT dataset.\n",
    "in_x, oot_x, in_y, oot_y = train_test_split(data.data, data.target, test_size=3000, random_state=0)\n",
    "\n",
    "## split the rest samples into training and testing\n",
    "train_x, test_x, train_y, test_y = train_test_split(in_x, in_y, test_size=0.33,\n",
    "                                                    random_state=0)\n",
    "\n",
    "xgb_model = XGBRegressor(max_depth=8, n_estimators=100)\n",
    "xgb_model.fit(train_x, train_y)"
   ]
  },
  {
   "cell_type": "code",
   "execution_count": null,
   "id": "95b4d293-d8af-44b4-8771-7d8857318b67",
   "metadata": {},
   "outputs": [],
   "source": [
    "## =============================================================\n",
    "## Save the model into file system for future use\n",
    "## =============================================================\n",
    "import pickle\n",
    "file_name = \"ch_xgb.pkl\"\n",
    "pickle.dump(xgb_model, open(file_name, \"wb\"))"
   ]
  },
  {
   "cell_type": "code",
   "execution_count": null,
   "id": "2aba7cb6-b09e-45c3-b579-df76170e0c65",
   "metadata": {},
   "outputs": [],
   "source": [
    "## =============================================================\n",
    "## Save the data into file system for future use\n",
    "## =============================================================\n",
    "import pandas as pd\n",
    "\n",
    "pd.concat([pd.DataFrame(train_x, columns=data.feature_names),\n",
    "           pd.DataFrame(train_y, columns=data.target_names)], axis=1).to_csv(\"ch_train.csv\", index=None)\n",
    "\n",
    "pd.concat([pd.DataFrame(test_x, columns=data.feature_names),\n",
    "           pd.DataFrame(test_y, columns=data.target_names)], axis=1).to_csv(\"ch_test.csv\", index=None)\n",
    "\n",
    "pd.concat([pd.DataFrame(oot_x, columns=data.feature_names),\n",
    "           pd.DataFrame(oot_y, columns=data.target_names)], axis=1).to_csv(\"ch_oot.csv\", index=None)"
   ]
  },
  {
   "cell_type": "markdown",
   "id": "25d2b7b4-4e8a-4506-ab46-abb0cc8a3a01",
   "metadata": {},
   "source": [
    "## 2) Load Data and Model into Modeva"
   ]
  },
  {
   "cell_type": "code",
   "execution_count": null,
   "id": "6d7afd5f-c2e1-4bfa-a4c5-b9364910eecb",
   "metadata": {},
   "outputs": [],
   "source": [
    "## Create an instance of DataSet class\n",
    "from modeva import DataSet\n",
    "ds = DataSet()"
   ]
  },
  {
   "cell_type": "code",
   "execution_count": null,
   "id": "298ff5f6-662c-4bce-a25d-b2606b3ba475",
   "metadata": {},
   "outputs": [],
   "source": [
    "## =============================================================\n",
    "## Load train, test and oot data into Modeva \n",
    "## =============================================================\n",
    "\n",
    "## a) load data from csv files into memory\n",
    "train = pd.read_csv(\"ch_train.csv\")\n",
    "test = pd.read_csv(\"ch_test.csv\")\n",
    "oot = pd.read_csv(\"ch_oot.csv\")\n",
    "\n",
    "## b) Initialize DataSet with train and test data\n",
    "ds.load_dataframe_train_test(train=train, test=test)\n",
    "\n",
    "## c) load oot data\n",
    "ds.set_raw_extra_data(name=\"oot\", data=oot)\n",
    "\n",
    "## d) set target feature\n",
    "ds.set_target(feature=\"MedHouseVal\")\n",
    "\n",
    "## e) set task type\n",
    "ds.set_task_type('Regression')"
   ]
  },
  {
   "cell_type": "code",
   "execution_count": null,
   "id": "6c05bee8-f7b9-436d-a2aa-f6ca2ee95a0d",
   "metadata": {},
   "outputs": [],
   "source": [
    "## ----------------------------------------------------------------\n",
    "## Target Model Wrapping: e.g. pre-trained Sklearn-style model\n",
    "## ----------------------------------------------------------------\n",
    "\n",
    "from modeva.models.wrappers.api import modeva_sklearn_regressor\n",
    "\n",
    "estimator = pickle.load(open(file_name, \"rb\"))\n",
    "model_target = modeva_sklearn_regressor(name=\"WrappedXGB\", estimator=estimator)"
   ]
  },
  {
   "cell_type": "markdown",
   "id": "e580e3a5-ef4d-44a3-8329-8be63dc2195d",
   "metadata": {},
   "source": [
    "## 4) Explainability of Target Model"
   ]
  },
  {
   "cell_type": "code",
   "execution_count": null,
   "id": "616c9199-664a-4abb-b577-39ea09e03d50",
   "metadata": {},
   "outputs": [],
   "source": [
    "## ----------------------------------------------------------------\n",
    "## Post-hoc Explainability\n",
    "##    fs.explain_pfi: permutation feature importance\n",
    "##    fs.explain_hstatistic: H-statistic for each pair of features\n",
    "##    fs.explain_pdp: 1D and 2D PDP\n",
    "##    fs.explain_ale: 1D and 2D ALE\n",
    "##    fs.explain_lime: LIME for local explanation\n",
    "##    fs.explain_shap: SHAP for local explanation\n",
    "## ----------------------------------------------------------------\n",
    "\n",
    "## Create a factsheet that bundles dataset and model\n",
    "from modeva import FactSheet\n",
    "fs = FactSheet(ds, model_target)"
   ]
  },
  {
   "cell_type": "code",
   "execution_count": null,
   "id": "bb3fe680-8e84-4026-a1c0-031523d81a9d",
   "metadata": {},
   "outputs": [],
   "source": [
    "## Post-hoc permutation feature importance\n",
    "result = fs.explain_pfi()\n",
    "result.plot(figsize=(6, 4))"
   ]
  },
  {
   "cell_type": "code",
   "execution_count": null,
   "id": "4bb6de80-a80d-496b-913c-a213eceaf1e5",
   "metadata": {},
   "outputs": [],
   "source": [
    "## Post-hoc H-statistic\n",
    "result = fs.explain_hstatistic(sample_size=1000, grid_resolution=10)\n",
    "result.plot(figsize=(6, 5))"
   ]
  },
  {
   "cell_type": "code",
   "execution_count": null,
   "id": "a9ac1a7e-c20e-4ffa-96a3-3f110339aad1",
   "metadata": {},
   "outputs": [],
   "source": [
    "## Post-hoc partial dependence plots\n",
    "result = fs.explain_pdp(features=\"MedInc\")\n",
    "result.plot(figsize=(6, 4))\n",
    "result = fs.explain_pdp(features=(\"Latitude\", \"Longitude\"))\n",
    "result.plot(figsize=(6, 5))"
   ]
  },
  {
   "cell_type": "code",
   "execution_count": null,
   "id": "15094144-4eb7-4b34-a492-0e2c18e9d421",
   "metadata": {},
   "outputs": [],
   "source": [
    "## Post-hoc accumulated local effects\n",
    "result = fs.explain_ale(features=(\"Longitude\", \"Latitude\"), dataset=\"oot\")\n",
    "result.plot(figsize=(6, 5))"
   ]
  },
  {
   "cell_type": "code",
   "execution_count": null,
   "id": "80a6a077-75dd-4f61-b0b6-9f35bd5e583d",
   "metadata": {},
   "outputs": [],
   "source": [
    "## Post-hoc local explainability (LIME and SHAP)\n",
    "result = fs.explain_lime(dataset=\"test\", sample_index=0, centered=False)\n",
    "result.plot(figsize=(6.5, 4))\n",
    "result = fs.explain_shap(dataset=\"test\", sample_index=0)\n",
    "result.plot(figsize=(6.5, 4))"
   ]
  },
  {
   "cell_type": "markdown",
   "id": "2b73a00d-2396-4c07-9a7a-0b60e35319ca",
   "metadata": {},
   "source": [
    "## 5) Build Interpretable Benchmark Model using Modeva"
   ]
  },
  {
   "cell_type": "code",
   "execution_count": null,
   "id": "a72b0e36-c53e-49f8-8acd-609abbe5d03f",
   "metadata": {},
   "outputs": [],
   "source": [
    "## ----------------------------------------------------------------\n",
    "## Model Training: e.g. LGBM\n",
    "## ----------------------------------------------------------------\n",
    "\n",
    "from modeva.models import MoLGBMRegressor\n",
    "model_lgbm = MoLGBMRegressor(name=\"LGBM\", max_depth=2, n_estimators=500, verbose=-1)\n",
    "model_lgbm.fit(ds.train_x, ds.train_y.ravel())"
   ]
  },
  {
   "cell_type": "code",
   "execution_count": null,
   "id": "e97590da-662b-4d5c-997f-65a81ce73bf8",
   "metadata": {},
   "outputs": [],
   "source": [
    "## ----------------------------------------------------------------\n",
    "## Model Training: Modeva's native MoE model\n",
    "## ----------------------------------------------------------------\n",
    "\n",
    "from modeva.models import MoMoERegressor\n",
    "model_moe = MoMoERegressor(name=\"MOE\", max_depth=2, n_estimators=200, verbose=-1)\n",
    "model_moe.fit(ds.train_x, ds.train_y.ravel())"
   ]
  },
  {
   "cell_type": "code",
   "execution_count": null,
   "id": "5f7096d2-f9b3-4e13-8366-37bc973d9c13",
   "metadata": {},
   "outputs": [],
   "source": [
    "## ----------------------------------------------------------------\n",
    "## Model Tuning: e.g. Random Search\n",
    "## ----------------------------------------------------------------\n",
    "\n",
    "from modeva.models.tune import ModelTuneRandomSearch\n",
    "hyperspace = dict(n_clusters=[2, 4, 6, 8, 10],\n",
    "                  n_estimators=[50, 100, 200],\n",
    "                  max_depth=[1, 2])\n",
    "hpo = ModelTuneRandomSearch(dataset=ds,\n",
    "                          model=MoMoERegressor(verbose=-1))\n",
    "result = hpo.run(param_distributions=hyperspace,\n",
    "                 metric=\"MSE\",\n",
    "                 n_iter=10,\n",
    "                 cv=5)\n",
    "result.table"
   ]
  },
  {
   "cell_type": "code",
   "execution_count": null,
   "id": "9177523f-5097-4868-8b08-dbba59be8770",
   "metadata": {},
   "outputs": [],
   "source": [
    "## ----------------------------------------------------------------\n",
    "## Refit the model using selected hyperparameter\n",
    "## ----------------------------------------------------------------\n",
    "import numpy as np\n",
    "best_param_idx = np.where(result.value[\"rank_test_MSE\"] == 1)[0][0]\n",
    "model_moe_tuned = MoMoERegressor(**result.value[\"params\"][best_param_idx],\n",
    "                                 name=\"MoE-Tuned\",\n",
    "                                 verbose=-1)\n",
    "model_moe_tuned.fit(ds.train_x, ds.train_y)\n",
    "model_moe_tuned"
   ]
  },
  {
   "cell_type": "markdown",
   "id": "32a6e526-72b6-40ef-81f1-28e1fdd980a0",
   "metadata": {},
   "source": [
    "## 6) Compare Models"
   ]
  },
  {
   "cell_type": "code",
   "execution_count": null,
   "id": "9a9364ad-0b51-4b55-8af7-9ee2c72c6bfa",
   "metadata": {},
   "outputs": [],
   "source": [
    "## ----------------------------------------------------------------\n",
    "## Model bencharmking/comparison tests:\n",
    "##    fsc.compare_accuracy_table\n",
    "##    fsc.compare_robustness\n",
    "##    fsc.compare_reliability\n",
    "##    fsc.compare_resilience\n",
    "##    fsc.compare_slicing_accuracy\n",
    "##    fsc.compare_slicing_overfit\n",
    "##    fsc.compare_slicing_robustness\n",
    "##    fsc.compare_slicing_reliability\n",
    "## ----------------------------------------------------------------\n",
    "\n",
    "## create FactSheet that bundles dataset and multiple models\n",
    "fsc = FactSheet(ds, models=[model_lgbm, model_moe, model_moe_tuned, model_target])"
   ]
  },
  {
   "cell_type": "code",
   "execution_count": null,
   "id": "bfc0be69-ad64-48c5-998c-e267ad52e0e5",
   "metadata": {},
   "outputs": [],
   "source": [
    "result = fsc.compare_accuracy_table(train_dataset=\"train\", test_dataset=\"test\", \n",
    "                                    metric=\"MAE\")\n",
    "result.plot(figsize=(5, 4))"
   ]
  },
  {
   "cell_type": "code",
   "execution_count": null,
   "id": "98dcf08a-fe13-462e-bdc9-ffebc50bbf95",
   "metadata": {},
   "outputs": [],
   "source": [
    "result = fsc.compare_accuracy_table(train_dataset=\"train\", test_dataset=\"oot\", \n",
    "                                    metric=\"MAE\")\n",
    "result.plot(figsize=(5, 4))"
   ]
  },
  {
   "cell_type": "code",
   "execution_count": null,
   "id": "9d58fee1-89cf-4b3e-b97d-b841dc98d8d1",
   "metadata": {},
   "outputs": [],
   "source": [
    "result = fsc.compare_reliability(train_dataset='test', test_dataset='test',\n",
    "                                 test_size=0.5, alpha=0.1)\n",
    "result.plot(figsize=(6, 4))"
   ]
  },
  {
   "cell_type": "code",
   "execution_count": null,
   "id": "0a6943b2-6fe2-4935-ba96-c1aa95edf77b",
   "metadata": {},
   "outputs": [],
   "source": [
    "result = fsc.compare_resilience(dataset='test', metric=\"MAE\", method='worst-sample')\n",
    "result.plot(figsize=(6, 4))"
   ]
  },
  {
   "cell_type": "code",
   "execution_count": null,
   "id": "e5b54622-562a-4b0b-89ad-3cecdb444ea5",
   "metadata": {},
   "outputs": [],
   "source": [
    "result = fsc.compare_robustness(dataset=\"test\",\n",
    "                                noise_levels=(0.01, 0.02, 0.03, 0.04), \n",
    "                                perturb_method=\"normal\", metric=\"MAE\")\n",
    "result.plot(figsize=(6, 4))"
   ]
  },
  {
   "cell_type": "code",
   "execution_count": null,
   "id": "bf35c5d0-ddd4-4b77-b585-85700c89d958",
   "metadata": {},
   "outputs": [],
   "source": [
    "result = fsc.compare_slicing_accuracy(dataset=\"test\",\n",
    "                                      features=\"MedInc\", method=\"uniform\", bins=5, metric=\"MAE\")\n",
    "result.plot(figsize=(6, 5))"
   ]
  },
  {
   "cell_type": "code",
   "execution_count": null,
   "id": "089daffa-6635-4b3c-813a-9795ddafa0aa",
   "metadata": {},
   "outputs": [],
   "source": [
    "result = fsc.compare_slicing_overfit(test_dataset=\"test\", \n",
    "                                     features=\"MedInc\", method=\"uniform\", bins=5, metric=\"MAE\")\n",
    "result.plot(figsize=(6, 5))"
   ]
  },
  {
   "cell_type": "code",
   "execution_count": null,
   "id": "a1872d62-4bdd-42cc-bb36-fa109419ae1b",
   "metadata": {},
   "outputs": [],
   "source": [
    "result = fsc.compare_slicing_robustness(dataset=\"oot\",\n",
    "                                        features=\"MedInc\", method=\"uniform\", bins=5, \n",
    "                                        noise_levels=0.2, \n",
    "                                        perturb_method=\"quantile\", metric=\"MAE\")\n",
    "result.plot(figsize=(6, 4))"
   ]
  },
  {
   "cell_type": "code",
   "execution_count": null,
   "id": "d86185aa-d764-4311-91b1-fe614e752590",
   "metadata": {},
   "outputs": [],
   "source": [
    "result = fsc.compare_slicing_reliability(train_dataset=\"oot\",\n",
    "                                         test_dataset=\"oot\",\n",
    "                                         features=\"MedInc\", method=\"uniform\", bins=5, \n",
    "                                         test_size=0.5, alpha=0.1)\n",
    "result.plot(figsize=(6, 4))"
   ]
  },
  {
   "cell_type": "markdown",
   "id": "dcda9d04-ab9d-4569-9f86-a9a123f2b3cb",
   "metadata": {},
   "source": [
    "## 7) Wrap the Above Steps into Pipeline"
   ]
  },
  {
   "cell_type": "code",
   "execution_count": null,
   "id": "ed18f18e-76c0-4a25-babe-9e5a36303394",
   "metadata": {},
   "outputs": [],
   "source": [
    "## ----------------------------------------------------------------\n",
    "## Define step functions\n",
    "## ----------------------------------------------------------------\n",
    "\n",
    "import pickle\n",
    "import numpy as np\n",
    "import pandas as pd\n",
    "\n",
    "from modeva import DataSet\n",
    "from modeva import ModelZoo\n",
    "from modeva import FactSheet\n",
    "from modeva.models import MoLGBMRegressor\n",
    "from modeva.models import MoMoERegressor\n",
    "from modeva.models.tune import ModelTuneRandomSearch\n",
    "from modeva.models.wrappers.api import modeva_sklearn_regressor\n",
    "\n",
    "from modeva.automation.pipeline import Pipeline\n",
    "\n",
    "def load_data():\n",
    "    train = pd.read_csv(\"ch_train.csv\")\n",
    "    test = pd.read_csv(\"ch_test.csv\")\n",
    "    oot = pd.read_csv(\"ch_oot.csv\")\n",
    "    ds.load_dataframe_train_test(train=train, test=test)\n",
    "    ds.set_raw_extra_data(name=\"oot\", data=oot)\n",
    "    ds.set_target(feature=\"MedHouseVal\")\n",
    "    ds.set_task_type('Regression')\n",
    "    return ds\n",
    "\n",
    "def load_target_model(ds):\n",
    "    estimator = pickle.load(open(\"ch_xgb.pkl\", \"rb\"))\n",
    "    model = modeva_sklearn_regressor(name=\"WrappedXGB\", estimator=estimator)\n",
    "    return model\n",
    "\n",
    "def train_lgbm(ds):\n",
    "    model = MoLGBMRegressor(name=\"LGBM\", max_depth=2, n_estimators=500, verbose=-1)\n",
    "    model.fit(ds.train_x, ds.train_y.ravel())\n",
    "    return model\n",
    "\n",
    "def train_moe(ds):\n",
    "    model = MoMoERegressor(name=\"MOE\", max_depth=2, n_estimators=500, verbose=-1)\n",
    "    model.fit(ds.train_x, ds.train_y.ravel())\n",
    "    return model\n",
    "\n",
    "def train_moe_tuned(ds):\n",
    "    hyperspace = dict(n_clusters=[2, 4, 6, 8, 10],\n",
    "                      n_estimators=[50, 100, 200],\n",
    "                      max_depth=[1, 2])\n",
    "    hpo = ModelTuneRandomSearch(dataset=ds,\n",
    "                              model=MoMoERegressor(verbose=-1))\n",
    "    result = hpo.run(param_distributions=hyperspace,\n",
    "                     metric=\"MSE\",\n",
    "                     n_iter=10,\n",
    "                     cv=5)\n",
    "    best_param_idx = np.where(result.value[\"rank_test_MSE\"] == 1)[0][0]\n",
    "    model = MoMoERegressor(**result.value[\"params\"][best_param_idx],\n",
    "                           name=\"MoE-Tuned\",\n",
    "                           verbose=-1)\n",
    "    model.fit(ds.train_x, ds.train_y)\n",
    "    return model\n",
    "\n",
    "def explain_model(ds, model):\n",
    "    fs = FactSheet(ds, model=model)\n",
    "\n",
    "    result1 = fs.explain_pfi()\n",
    "    result1.plot(figsize=(6, 4))\n",
    "\n",
    "    result2 = fs.explain_hstatistic(sample_size=1000, grid_resolution=10)\n",
    "    result2.plot(figsize=(6, 5))\n",
    "\n",
    "    result3 = fs.explain_pdp(features=\"MedInc\")\n",
    "    result3.plot(figsize=(6, 5))\n",
    "\n",
    "    result4 = fs.explain_lime(dataset=\"test\", sample_index=0, centered=False)\n",
    "    result4.plot(figsize=(6, 4))\n",
    "    return result1, result2, result3, result4\n",
    "\n",
    "def compare_models(ds, model1, model2, model3, model4):\n",
    "    fsc = FactSheet(ds, models=[model1, model2, model3, model4])\n",
    "\n",
    "    result1 = fsc.compare_accuracy_table(train_dataset=\"train\", test_dataset=\"test\", metric=(\"MSE\", \"MAE\"))\n",
    "    result1.plot(figsize=(6.5, 4))\n",
    "\n",
    "    result2 = fsc.compare_reliability(train_dataset='test', test_dataset='test',\n",
    "                                      test_size=0.5, alpha=0.1)\n",
    "    result2.plot(figsize=(6, 4))\n",
    "\n",
    "    result3 = fsc.compare_robustness(noise_levels=(0.01, 0.02, 0.03, 0.04), \n",
    "                                     perturb_method=\"normal\", metric=\"MAE\")\n",
    "    result3.plot(figsize=(6.5, 4))\n",
    "\n",
    "    result4 = fsc.compare_slicing_accuracy(features=\"MedInc\", method=\"uniform\", bins=5, metric=\"MAE\")\n",
    "    result4.plot(figsize=(6, 5))\n",
    "    return result1, result2, result3, result4"
   ]
  },
  {
   "cell_type": "code",
   "execution_count": null,
   "id": "19feefb1-b43e-4d4e-b34d-96ee51c7e557",
   "metadata": {},
   "outputs": [],
   "source": [
    "## ----------------------------------------------------------------\n",
    "## Construct Pipeline with Step Functions\n",
    "## ----------------------------------------------------------------\n",
    "\n",
    "exp = Pipeline(name='CH-Pipeline')\n",
    "\n",
    "exp.add_step(\n",
    "    name='load_data',\n",
    "    func=load_data,\n",
    "    func_inputs={},\n",
    "    save_data=True,\n",
    ")\n",
    "\n",
    "exp.add_step(\n",
    "    name='load_target_model', \n",
    "    parent='load_data',\n",
    "    func=load_target_model,\n",
    "    func_inputs={}, # auto map from parent steps\n",
    "    save_model=True,\n",
    ")\n",
    "\n",
    "exp.add_step(\n",
    "    name='train_lgbm', \n",
    "    parent='load_data',\n",
    "    func=train_lgbm,\n",
    "    func_inputs={}, # auto map from parent steps\n",
    "    save_model=True,\n",
    ")\n",
    "\n",
    "exp.add_step(\n",
    "    name='train_moe', \n",
    "    parent='load_data',\n",
    "    func=train_moe,\n",
    "    func_inputs={}, # auto map from parent steps\n",
    "    save_model=True,\n",
    ")\n",
    "\n",
    "exp.add_step(\n",
    "    name='train_moe_tuned',\n",
    "    parent='load_data',\n",
    "    func=train_moe_tuned,\n",
    "    func_inputs={}, # auto map from parent steps\n",
    "    save_model=True,\n",
    ")\n",
    "\n",
    "exp.add_step(\n",
    "    func=explain_model,\n",
    "    func_inputs={}, # auto map from parent steps\n",
    "    name='explain_model', parent=['load_data', 'load_target_model'],\n",
    "    save_factsheet=True,\n",
    ")\n",
    "\n",
    "exp.add_step(\n",
    "    func=compare_models,\n",
    "    func_inputs={}, # auto map from parent steps\n",
    "    name='compare_model', parent=['load_data', 'train_lgbm', 'train_moe', 'train_moe_tuned', 'load_target_model'],\n",
    "    save_factsheet=True,\n",
    ")"
   ]
  },
  {
   "cell_type": "code",
   "execution_count": null,
   "id": "6b08eeec-d86b-4231-be18-871deb282250",
   "metadata": {},
   "outputs": [],
   "source": [
    "## ----------------------------------------------------------------\n",
    "## Run Pipeline\n",
    "## ----------------------------------------------------------------\n",
    "exp.run()"
   ]
  },
  {
   "cell_type": "code",
   "execution_count": null,
   "id": "a7053ff5-4a2b-427d-8bdf-043ad98b0464",
   "metadata": {},
   "outputs": [],
   "source": [
    "## =============================================================\n",
    "## Factsheet-export API (to be merged to Modeva in next release)\n",
    "## =============================================================\n",
    "\n",
    "import json\n",
    "import pandas as pd\n",
    "from modeva.dashboard.utils.report import create_html_reprt\n",
    "\n",
    "def export_report(fs, path: str = \"report.html\"):\n",
    "    \"\"\"Export report to html\n",
    "\n",
    "    Parameters\n",
    "    ----------\n",
    "    path : str, optional\n",
    "        The export path, by default \"report.html\"\n",
    "    \"\"\"\n",
    "    names = fs.list_registered_tests().Name.unique().tolist()\n",
    "    rs = []\n",
    "    for name in names:\n",
    "        f = fs.load_registered_test(name=name)\n",
    "        plots = []\n",
    "        plot = f['options']\n",
    "        if plot:\n",
    "            if 'chart_id' in plot:\n",
    "                plots.append(plot)\n",
    "            else:\n",
    "                for name, option in plot.items():\n",
    "                    plots.append(option)\n",
    "        if f['table'] is not None:\n",
    "            table = f['table'].round(6).to_dict(orient=\"split\")\n",
    "        else:\n",
    "            table = {}\n",
    "        rs.append({\n",
    "            \"name\": name,\n",
    "            \"data\": json.dumps(f['data']),\n",
    "            \"model\": json.dumps(f['model']),\n",
    "            \"inputs\": json.dumps(f['inputs']),\n",
    "            \"table\": json.dumps(table).replace(\"nan\", \"null\").replace(\"NaN\", \"null\"),\n",
    "            \"plots\": json.dumps(plots).replace(\"nan\", \"null\").replace(\"NaN\", \"null\"),\n",
    "        })\n",
    "    html_str = create_html_reprt(fs.name, rs)\n",
    "    with open(path, 'w', encoding='utf-8') as f:\n",
    "        f.write(html_str)"
   ]
  },
  {
   "cell_type": "code",
   "execution_count": null,
   "id": "fbfd1835-c7a7-41b2-92be-8b9a9ace02d7",
   "metadata": {},
   "outputs": [],
   "source": [
    "fs = FactSheet(name='CH-Pipeline-FactSheet')\n",
    "export_report(fs, path=\"report.html\")"
   ]
  }
 ],
 "metadata": {
  "kernelspec": {
   "display_name": "Python 3 (ipykernel)",
   "language": "python",
   "name": "python3"
  },
  "language_info": {
   "codemirror_mode": {
    "name": "ipython",
    "version": 3
   },
   "file_extension": ".py",
   "mimetype": "text/x-python",
   "name": "python",
   "nbconvert_exporter": "python",
   "pygments_lexer": "ipython3",
   "version": "3.11.9"
  },
  "widgets": {
   "application/vnd.jupyter.widget-state+json": {
    "state": {},
    "version_major": 2,
    "version_minor": 0
   }
  }
 },
 "nbformat": 4,
 "nbformat_minor": 5
}
