{
 "cells": [
  {
   "cell_type": "markdown",
   "id": "3b0858c6-ed32-495c-a994-29b864e1dcac",
   "metadata": {},
   "source": [
    "# Pipeline Example: Experimentation based on CaliforniaHousing Data"
   ]
  },
  {
   "cell_type": "markdown",
   "id": "b468bc68-15aa-41a2-be17-d735d4d0100d",
   "metadata": {},
   "source": [
    "## 0) Setting up Modeva"
   ]
  },
  {
   "cell_type": "code",
   "execution_count": 2,
   "id": "e8b05993-50d2-4faf-a77e-21f63f0fad7f",
   "metadata": {},
   "outputs": [
    {
     "name": "stderr",
     "output_type": "stream",
     "text": [
      "WARNING: Ignoring invalid distribution ~ (D:\\anaconda\\envs\\py311\\Lib\\site-packages)\n",
      "WARNING: Ignoring invalid distribution ~iml (D:\\anaconda\\envs\\py311\\Lib\\site-packages)\n",
      "WARNING: Ignoring invalid distribution ~yarrow (D:\\anaconda\\envs\\py311\\Lib\\site-packages)\n",
      "WARNING: Ignoring invalid distribution ~~ml (D:\\anaconda\\envs\\py311\\Lib\\site-packages)\n",
      "WARNING: Package(s) not found: modeva\n"
     ]
    }
   ],
   "source": [
    "## =============================================================\n",
    "## Install or update packages(recommended to run in Terminal)\n",
    "## =============================================================\n",
    "!pip show modeva\n",
    "# !pip uninstall modeva\n",
    "#!pip install modeva"
   ]
  },
  {
   "cell_type": "code",
   "execution_count": 3,
   "id": "a816f6fd-43b7-4b86-a0cd-91329a2cdb57",
   "metadata": {},
   "outputs": [
    {
     "data": {
      "text/html": [
       "<style type='text/css'>\n",
       ".datatable table.frame { margin-bottom: 0; }\n",
       ".datatable table.frame thead { border-bottom: none; }\n",
       ".datatable table.frame tr.coltypes td {  color: #FFFFFF;  line-height: 6px;  padding: 0 0.5em;}\n",
       ".datatable .bool    { background: #DDDD99; }\n",
       ".datatable .object  { background: #565656; }\n",
       ".datatable .int     { background: #5D9E5D; }\n",
       ".datatable .float   { background: #4040CC; }\n",
       ".datatable .str     { background: #CC4040; }\n",
       ".datatable .time    { background: #40CC40; }\n",
       ".datatable .row_index {  background: var(--jp-border-color3);  border-right: 1px solid var(--jp-border-color0);  color: var(--jp-ui-font-color3);  font-size: 9px;}\n",
       ".datatable .frame tbody td { text-align: left; }\n",
       ".datatable .frame tr.coltypes .row_index {  background: var(--jp-border-color0);}\n",
       ".datatable th:nth-child(2) { padding-left: 12px; }\n",
       ".datatable .hellipsis {  color: var(--jp-cell-editor-border-color);}\n",
       ".datatable .vellipsis {  background: var(--jp-layout-color0);  color: var(--jp-cell-editor-border-color);}\n",
       ".datatable .na {  color: var(--jp-cell-editor-border-color);  font-size: 80%;}\n",
       ".datatable .sp {  opacity: 0.25;}\n",
       ".datatable .footer { font-size: 9px; }\n",
       ".datatable .frame_dimensions {  background: var(--jp-border-color3);  border-top: 1px solid var(--jp-border-color0);  color: var(--jp-ui-font-color3);  display: inline-block;  opacity: 0.6;  padding: 1px 10px 1px 5px;}\n",
       "</style>\n"
      ],
      "text/plain": [
       "<IPython.core.display.HTML object>"
      ]
     },
     "metadata": {},
     "output_type": "display_data"
    }
   ],
   "source": [
    "# To get authentication, use the following command: (To get full access please replace the token to your own token)\n",
    "from modeva.utils.authenticate import authenticate\n",
    "authenticate(token='eaaa4301-b140-484c-8e93-f9f633c8bacb')"
   ]
  },
  {
   "cell_type": "markdown",
   "id": "dcda9d04-ab9d-4569-9f86-a9a123f2b3cb",
   "metadata": {},
   "source": [
    "## 1) Prepare Step Functions"
   ]
  },
  {
   "cell_type": "code",
   "execution_count": 7,
   "id": "ed18f18e-76c0-4a25-babe-9e5a36303394",
   "metadata": {},
   "outputs": [],
   "source": [
    "import numpy as np\n",
    "\n",
    "from modeva import DataSet\n",
    "from modeva import ModelZoo\n",
    "from modeva import TestSuite\n",
    "from modeva.models import MoLGBMRegressor\n",
    "from modeva.models import MoMoERegressor\n",
    "from modeva.models.tune import ModelTuneRandomSearch\n",
    "\n",
    "from modeva.automation.pipeline import Pipeline\n",
    "\n",
    "def load_data(name, inactive_features, target_feature, task_type, test_ratio):\n",
    "    ds = DataSet(name=name)\n",
    "    ds.load(name)\n",
    "    ds.reset_preprocess()\n",
    "    ds.impute_missing()\n",
    "    ds.scale_numerical(method=\"minmax\")\n",
    "    ds.encode_categorical(method=\"ordinal\")\n",
    "    ds.preprocess()\n",
    "    ds.set_inactive_features(features=inactive_features)\n",
    "    ds.set_target(feature=target_feature)\n",
    "    ds.set_task_type(task_type)\n",
    "    ds.set_random_split(test_ratio=test_ratio)\n",
    "    return ds\n",
    "\n",
    "def train_lgbm(ds):\n",
    "    model = MoLGBMRegressor(name=\"LGBM\", max_depth=2, n_estimators=100, verbose=-1)\n",
    "    model.fit(ds.train_x, ds.train_y.ravel())\n",
    "    return model\n",
    "\n",
    "def train_moe(ds):\n",
    "    model = MoMoERegressor(name=\"MOE\", n_clusters=5, max_depth=2, n_estimators=100, verbose=-1)\n",
    "    model.fit(ds.train_x, ds.train_y.ravel())\n",
    "    return model\n",
    "\n",
    "def train_moe_tuned(ds):\n",
    "    hyperspace = dict(n_clusters=[2, 3, 4, 5, 6, 7, 8, 9, 10])\n",
    "    hpo = ModelTuneRandomSearch(dataset=ds,\n",
    "                                model=MoMoERegressor(verbose=-1))\n",
    "    result = hpo.run(param_distributions=hyperspace,\n",
    "                     n_iter=10,\n",
    "                     metric=\"MSE\",\n",
    "                     cv=5,\n",
    "                     random_state=0)\n",
    "\n",
    "    best_param_idx = np.where(result.value[\"rank_test_MSE\"] == 1)[0][0]\n",
    "    model = MoMoERegressor(**result.value[\"params\"][best_param_idx],\n",
    "                           name=\"MoE-Tuned\",\n",
    "                           verbose=-1)\n",
    "    model.fit(ds.train_x, ds.train_y)\n",
    "    return model\n",
    "\n",
    "def interpret_model(ds, model):\n",
    "    ts = TestSuite(ds, model=model)\n",
    "\n",
    "    result1 = ts.interpret_fi()\n",
    "    result1.plot(figsize=(6, 4))\n",
    "\n",
    "    result2 = ts.interpret_ei()\n",
    "    result2.plot(figsize=(6.5, 4))\n",
    "\n",
    "    result3 = ts.interpret_effects(features=\"MedInc\")\n",
    "    result3.plot(figsize=(6, 4))\n",
    "\n",
    "    result4 = ts.interpret_local_fi(dataset='test', sample_index=0, centered=True)\n",
    "    result4.plot(figsize=(6, 4))\n",
    "    return result1, result2, result3, result4\n",
    "\n",
    "def explain_model(ds, model):\n",
    "    ts = TestSuite(ds, model=model)\n",
    "\n",
    "    result1 = ts.explain_pfi()\n",
    "    result1.plot(figsize=(6, 4))\n",
    "\n",
    "    result2 = ts.explain_hstatistic(sample_size=1000, grid_resolution=10)\n",
    "    result2.plot(figsize=(6, 5))\n",
    "\n",
    "    result3 = ts.explain_pdp(features=\"MedInc\")\n",
    "    result3.plot(figsize=(6, 5))\n",
    "\n",
    "    result4 = ts.explain_lime(dataset=\"test\", sample_index=0, centered=False)\n",
    "    result4.plot(figsize=(6, 4))\n",
    "    return result1, result2, result3, result4\n",
    "\n",
    "def test_model(ds, model):\n",
    "    ts = TestSuite(ds, model=model)\n",
    "\n",
    "    result1 = ts.diagnose_accuracy_table(train_dataset=\"train\", test_dataset=\"test\", metric=None)\n",
    "    print(result1.table)\n",
    "\n",
    "    result2 = ts.diagnose_robustness(dataset=\"test\", perturb_features=None, \n",
    "                                     noise_levels=(0.2, 0.4, 0.6, 0.8), metric=\"MAE\")\n",
    "    result2.plot(figsize=(6, 4))\n",
    "\n",
    "    result3 = ts.diagnose_residual_cluster()\n",
    "    result3.plot(figsize=(6, 4))\n",
    "\n",
    "    result4 = ts.diagnose_slicing_accuracy(features=((\"MedInc\",), (\"Population\", ), ), metric=\"MAE\",\n",
    "                                           method=\"quantile\", threshold=None)\n",
    "    result4.table\n",
    "    return result1, result2, result3, result4\n",
    "\n",
    "def compare_models(ds, model1, model2, model3):\n",
    "    tsc = TestSuite(ds, models=[model1, model2, model3])\n",
    "\n",
    "    result1 = tsc.compare_accuracy_table(train_dataset=\"train\", test_dataset=\"test\", metric=(\"MSE\", \"MAE\"))\n",
    "    result1.plot(figsize=(6.5, 4))\n",
    "\n",
    "    result2 = tsc.compare_robustness(noise_levels=(0.1, 0.2, 0.3, 0.4), \n",
    "                                     perturb_method=\"quantile\", metric=\"MAE\")\n",
    "    result2.plot(figsize=(6.5, 4))\n",
    "    return result1, result2"
   ]
  },
  {
   "cell_type": "markdown",
   "id": "fa856968-cf70-493c-b6a4-0c5f25758455",
   "metadata": {},
   "source": [
    "## 2) Construct Pipeline with Step Functions"
   ]
  },
  {
   "cell_type": "code",
   "execution_count": 8,
   "id": "19feefb1-b43e-4d4e-b34d-96ee51c7e557",
   "metadata": {},
   "outputs": [],
   "source": [
    "exp = Pipeline(name='CH-Pipeline')\n",
    "\n",
    "exp.add_step(\n",
    "    name='load_data',\n",
    "    func=load_data,\n",
    "    func_inputs={'name': 'CaliforniaHousing',\n",
    "                 \"target_feature\": \"MedHouseVal\",\n",
    "                 \"inactive_features\": None,\n",
    "                 \"task_type\": \"Regression\",\n",
    "                 \"test_ratio\": 0.33},\n",
    "    save_data=True,\n",
    ")\n",
    "\n",
    "exp.add_step(\n",
    "    name='train_lgbm', \n",
    "    parent='load_data',\n",
    "    func=train_lgbm,\n",
    "    func_inputs={}, # auto map from parent steps\n",
    "    save_model=True,\n",
    ")\n",
    "\n",
    "exp.add_step(\n",
    "    name='train_moe', \n",
    "    parent='load_data',\n",
    "    func=train_moe,\n",
    "    func_inputs={}, # auto map from parent steps\n",
    "    save_model=True,\n",
    ")\n",
    "\n",
    "exp.add_step(\n",
    "    name='train_moe_tuned',\n",
    "    parent='load_data',\n",
    "    func=train_moe_tuned,\n",
    "    func_inputs={}, # auto map from parent steps\n",
    "    save_model=True,\n",
    ")\n",
    "\n",
    "exp.add_step(\n",
    "    func=interpret_model,\n",
    "    func_inputs={}, # auto map from parent steps\n",
    "    name='interpret_model', parent=['load_data', 'train_lgbm'],\n",
    "    save_testsuite=True,\n",
    ")\n",
    "\n",
    "exp.add_step(\n",
    "    func=explain_model,\n",
    "    func_inputs={}, # auto map from parent steps\n",
    "    name='explain_model', parent=['load_data', 'train_lgbm'],\n",
    "    save_testsuite=True,\n",
    ")\n",
    "\n",
    "exp.add_step(\n",
    "    func=test_model,\n",
    "    func_inputs={}, # auto map from parent steps\n",
    "    name='test_model', parent=['load_data', 'train_lgbm'],\n",
    "    save_testsuite=True,\n",
    ")\n",
    "\n",
    "exp.add_step(\n",
    "    func=compare_models,\n",
    "    func_inputs={}, # auto map from parent steps\n",
    "    name='compare_model', parent=['load_data', 'train_lgbm', 'train_moe', 'train_moe_tuned'],\n",
    "    save_testsuite=True,\n",
    ")"
   ]
  },
  {
   "cell_type": "markdown",
   "id": "75b60faf-7b94-4734-a44e-465f1006cfaa",
   "metadata": {},
   "source": [
    "## 3) Run Pipeline"
   ]
  },
  {
   "cell_type": "code",
   "execution_count": 9,
   "id": "6b08eeec-d86b-4231-be18-871deb282250",
   "metadata": {},
   "outputs": [
    {
     "name": "stdout",
     "output_type": "stream",
     "text": [
      "Executing step: load_data\n",
      "Executing step: train_lgbm\n",
      "Executing step: train_moe\n",
      "Executing step: train_moe_tuned\n",
      "Executing step: interpret_model\n",
      "Executing step: explain_model\n",
      "Executing step: test_model\n",
      "            MSE       MAE        R2\n",
      "train  0.013251  0.081484  0.766098\n",
      "test   0.014154  0.082798  0.749555\n",
      "GAP    0.000903  0.001315 -0.016543\n",
      "Executing step: compare_model\n"
     ]
    }
   ],
   "source": [
    "exp.run()"
   ]
  },
  {
   "cell_type": "markdown",
   "id": "4e43ed5b-4885-4b6b-ac7b-0d55f6e42487",
   "metadata": {},
   "source": [
    "## 3) Export Results to HTML Report"
   ]
  },
  {
   "cell_type": "code",
   "execution_count": 10,
   "id": "ce4f4a2a-1277-473d-8ef4-0a6276673a12",
   "metadata": {},
   "outputs": [
    {
     "ename": "FileNotFoundError",
     "evalue": "[WinError 3] 系统找不到指定的路径。: ''",
     "output_type": "error",
     "traceback": [
      "\u001b[1;31m---------------------------------------------------------------------------\u001b[0m",
      "\u001b[1;31mFileNotFoundError\u001b[0m                         Traceback (most recent call last)",
      "Cell \u001b[1;32mIn[10], line 2\u001b[0m\n\u001b[0;32m      1\u001b[0m ts \u001b[38;5;241m=\u001b[39m TestSuite(name\u001b[38;5;241m=\u001b[39m\u001b[38;5;124m'\u001b[39m\u001b[38;5;124mCH-Pipeline-TestSuite\u001b[39m\u001b[38;5;124m'\u001b[39m)\n\u001b[1;32m----> 2\u001b[0m \u001b[43mts\u001b[49m\u001b[38;5;241;43m.\u001b[39;49m\u001b[43mexport_report\u001b[49m\u001b[43m(\u001b[49m\u001b[43mpath\u001b[49m\u001b[38;5;241;43m=\u001b[39;49m\u001b[38;5;124;43m'\u001b[39;49m\u001b[38;5;124;43mCH-Pipeline-Report.html\u001b[39;49m\u001b[38;5;124;43m'\u001b[39;49m\u001b[43m)\u001b[49m\n",
      "File \u001b[1;32mE:\\Wells Fargo Data\\PiML-Related\\Modeva-AI\\../Modeva\\modeva\\testsuite\\local_testsuite.py:1136\u001b[0m, in \u001b[0;36mLocalTestSuite.export_report\u001b[1;34m(self, path)\u001b[0m\n\u001b[0;32m   1125\u001b[0m     rs\u001b[38;5;241m.\u001b[39mappend({\n\u001b[0;32m   1126\u001b[0m         \u001b[38;5;124m\"\u001b[39m\u001b[38;5;124mname\u001b[39m\u001b[38;5;124m\"\u001b[39m: name,\n\u001b[0;32m   1127\u001b[0m         \u001b[38;5;124m\"\u001b[39m\u001b[38;5;124mdata\u001b[39m\u001b[38;5;124m\"\u001b[39m: json\u001b[38;5;241m.\u001b[39mdumps(f[\u001b[38;5;124m'\u001b[39m\u001b[38;5;124mdata\u001b[39m\u001b[38;5;124m'\u001b[39m]),\n\u001b[1;32m   (...)\u001b[0m\n\u001b[0;32m   1132\u001b[0m                                                                                          \u001b[38;5;124m'\u001b[39m\u001b[38;5;124m\"\u001b[39m\u001b[38;5;124mnameGap\u001b[39m\u001b[38;5;124m\"\u001b[39m\u001b[38;5;124m: 40\u001b[39m\u001b[38;5;124m'\u001b[39m)\n\u001b[0;32m   1133\u001b[0m     })\n\u001b[0;32m   1134\u001b[0m html_str \u001b[38;5;241m=\u001b[39m create_html_reprt(\u001b[38;5;28mself\u001b[39m\u001b[38;5;241m.\u001b[39mname, rs)\n\u001b[1;32m-> 1136\u001b[0m \u001b[43mos\u001b[49m\u001b[38;5;241;43m.\u001b[39;49m\u001b[43mmakedirs\u001b[49m\u001b[43m(\u001b[49m\u001b[43mos\u001b[49m\u001b[38;5;241;43m.\u001b[39;49m\u001b[43mpath\u001b[49m\u001b[38;5;241;43m.\u001b[39;49m\u001b[43mdirname\u001b[49m\u001b[43m(\u001b[49m\u001b[43mpath\u001b[49m\u001b[43m)\u001b[49m\u001b[43m,\u001b[49m\u001b[43m \u001b[49m\u001b[43mexist_ok\u001b[49m\u001b[38;5;241;43m=\u001b[39;49m\u001b[38;5;28;43;01mTrue\u001b[39;49;00m\u001b[43m)\u001b[49m\n\u001b[0;32m   1137\u001b[0m \u001b[38;5;28;01mwith\u001b[39;00m \u001b[38;5;28mopen\u001b[39m(path, \u001b[38;5;124m'\u001b[39m\u001b[38;5;124mw\u001b[39m\u001b[38;5;124m'\u001b[39m, encoding\u001b[38;5;241m=\u001b[39m\u001b[38;5;124m'\u001b[39m\u001b[38;5;124mutf-8\u001b[39m\u001b[38;5;124m'\u001b[39m) \u001b[38;5;28;01mas\u001b[39;00m f:\n\u001b[0;32m   1138\u001b[0m     f\u001b[38;5;241m.\u001b[39mwrite(html_str)\n",
      "File \u001b[1;32m<frozen os>:225\u001b[0m, in \u001b[0;36mmakedirs\u001b[1;34m(name, mode, exist_ok)\u001b[0m\n",
      "\u001b[1;31mFileNotFoundError\u001b[0m: [WinError 3] 系统找不到指定的路径。: ''"
     ]
    }
   ],
   "source": [
    "ts = TestSuite(name='CH-Pipeline-TestSuite')\n",
    "ts.export_report(path='CH-Pipeline-Report.html')"
   ]
  },
  {
   "cell_type": "code",
   "execution_count": null,
   "id": "159a47e2-4351-4a89-b120-9c26b4b874e5",
   "metadata": {},
   "outputs": [],
   "source": []
  },
  {
   "cell_type": "code",
   "execution_count": null,
   "id": "5efaadc2-02f8-4ce3-9318-4df44dc1398a",
   "metadata": {},
   "outputs": [],
   "source": []
  }
 ],
 "metadata": {
  "kernelspec": {
   "display_name": "Python 3 (ipykernel)",
   "language": "python",
   "name": "python3"
  },
  "language_info": {
   "codemirror_mode": {
    "name": "ipython",
    "version": 3
   },
   "file_extension": ".py",
   "mimetype": "text/x-python",
   "name": "python",
   "nbconvert_exporter": "python",
   "pygments_lexer": "ipython3",
   "version": "3.11.9"
  },
  "widgets": {
   "application/vnd.jupyter.widget-state+json": {
    "state": {
     "0515cad278c841c68c4b9e456f9b250b": {
      "model_module": "jupyter-vue",
      "model_module_version": "^1.11.1",
      "model_name": "ForceLoadModel",
      "state": {
       "_model_module_version": "^1.11.1",
       "_view_module": null,
       "_view_module_version": "",
       "layout": "IPY_MODEL_44fa2cb124924c75bd77c1f31050dca4"
      }
     },
     "1d0498c6112a437c952cb77a0acac3db": {
      "model_module": "jupyter-vuetify",
      "model_module_version": "^1.9.4",
      "model_name": "ThemeColorsModel",
      "state": {
       "_model_module_version": "^1.9.4",
       "_theme_name": "light",
       "_view_module": null,
       "_view_module_version": "^1.9.4",
       "accent": "#82B1FF",
       "error": "#FF5252",
       "info": "#2196F3",
       "primary": "#1976D2",
       "secondary": "#424242",
       "success": "#4CAF50",
       "warning": "#FB8C00"
      }
     },
     "44fa2cb124924c75bd77c1f31050dca4": {
      "model_module": "@jupyter-widgets/base",
      "model_module_version": "2.0.0",
      "model_name": "LayoutModel",
      "state": {}
     },
     "7815b43ab26a45128f1f5ef2c687c9bf": {
      "model_module": "jupyter-vuetify",
      "model_module_version": "^1.9.4",
      "model_name": "ThemeModel",
      "state": {
       "_model_module_version": "^1.9.4",
       "_view_module": null,
       "_view_module_version": "^1.9.4",
       "dark_effective": false
      }
     },
     "f852e3f1d96f4ee1819af921acc110a9": {
      "model_module": "jupyter-vuetify",
      "model_module_version": "^1.9.4",
      "model_name": "ThemeColorsModel",
      "state": {
       "_model_module_version": "^1.9.4",
       "_theme_name": "dark",
       "_view_module": null,
       "_view_module_version": "^1.9.4",
       "accent": "#FF4081",
       "error": "#FF5252",
       "info": "#2196F3",
       "primary": "#2196F3",
       "secondary": "#424242",
       "success": "#4CAF50",
       "warning": "#FB8C00"
      }
     }
    },
    "version_major": 2,
    "version_minor": 0
   }
  }
 },
 "nbformat": 4,
 "nbformat_minor": 5
}
