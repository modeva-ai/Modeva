{
 "cells": [
  {
   "cell_type": "markdown",
   "id": "3b0858c6-ed32-495c-a994-29b864e1dcac",
   "metadata": {},
   "source": [
    "# Pipeline Example: Experimentation based on CaliforniaHousing Data"
   ]
  },
  {
   "cell_type": "markdown",
   "id": "b468bc68-15aa-41a2-be17-d735d4d0100d",
   "metadata": {},
   "source": [
    "## 0) Setting up Modeva"
   ]
  },
  {
   "cell_type": "code",
   "execution_count": null,
   "id": "e8b05993-50d2-4faf-a77e-21f63f0fad7f",
   "metadata": {},
   "outputs": [],
   "source": [
    "## =============================================================\n",
    "## Install or update packages(recommended to run in Terminal)\n",
    "## =============================================================\n",
    "!pip show modeva\n",
    "# !pip uninstall modeva\n",
    "#!pip install modeva"
   ]
  },
  {
   "cell_type": "markdown",
   "id": "dcda9d04-ab9d-4569-9f86-a9a123f2b3cb",
   "metadata": {},
   "source": [
    "## 1) Prepare Step Functions"
   ]
  },
  {
   "cell_type": "code",
   "execution_count": null,
   "id": "ed18f18e-76c0-4a25-babe-9e5a36303394",
   "metadata": {},
   "outputs": [],
   "source": [
    "import numpy as np\n",
    "\n",
    "from modeva import DataSet\n",
    "from modeva import ModelZoo\n",
    "from modeva import FactSheet\n",
    "from modeva.models import MoLGBMRegressor\n",
    "from modeva.models import MoMoERegressor\n",
    "from modeva.models.tune import ModelTuneRandomSearch\n",
    "\n",
    "from modeva.automation.pipeline import Pipeline\n",
    "\n",
    "def load_data(name, inactive_features, target_feature, task_type, test_ratio):\n",
    "    ds = DataSet(name=name)\n",
    "    ds.load(name)\n",
    "    ds.reset_preprocess()\n",
    "    ds.impute_missing()\n",
    "    ds.scale_numerical(method=\"minmax\")\n",
    "    ds.encode_categorical(method=\"ordinal\")\n",
    "    ds.preprocess()\n",
    "    ds.set_inactive_features(features=inactive_features)\n",
    "    ds.set_target(feature=target_feature)\n",
    "    ds.set_task_type(task_type)\n",
    "    ds.set_random_split(test_ratio=test_ratio)\n",
    "    return ds\n",
    "\n",
    "def train_lgbm(ds):\n",
    "    model = MoLGBMRegressor(name=\"LGBM\", max_depth=2, n_estimators=100, verbose=-1)\n",
    "    model.fit(ds.train_x, ds.train_y.ravel())\n",
    "    return model\n",
    "\n",
    "def train_moe(ds):\n",
    "    model = MoMoERegressor(name=\"MOE\", n_clusters=5, max_depth=2, n_estimators=100, verbose=-1)\n",
    "    model.fit(ds.train_x, ds.train_y.ravel())\n",
    "    return model\n",
    "\n",
    "def train_moe_tuned(ds):\n",
    "    hyperspace = dict(n_clusters=[2, 3, 4, 5, 6, 7, 8, 9, 10])\n",
    "    hpo = ModelTuneRandomSearch(dataset=ds,\n",
    "                                model=MoMoERegressor(verbose=-1))\n",
    "    result = hpo.run(param_distributions=hyperspace,\n",
    "                     n_iter=10,\n",
    "                     metric=\"MSE\",\n",
    "                     cv=5,\n",
    "                     random_state=0)\n",
    "\n",
    "    best_param_idx = np.where(result.value[\"rank_test_MSE\"] == 1)[0][0]\n",
    "    model = MoMoERegressor(**result.value[\"params\"][best_param_idx],\n",
    "                           name=\"MoE-Tuned\",\n",
    "                           verbose=-1)\n",
    "    model.fit(ds.train_x, ds.train_y)\n",
    "    return model\n",
    "\n",
    "def interpret_model(ds, model):\n",
    "    fs = FactSheet(ds, model=model)\n",
    "\n",
    "    result1 = fs.interpret_fi()\n",
    "    result1.plot(figsize=(6, 4))\n",
    "\n",
    "    result2 = fs.interpret_ei()\n",
    "    result2.plot(figsize=(6.5, 4))\n",
    "\n",
    "    result3 = fs.interpret_effects(features=\"MedInc\")\n",
    "    result3.plot(figsize=(6, 4))\n",
    "\n",
    "    result4 = fs.interpret_local_fi(dataset='test', sample_index=0, centered=True)\n",
    "    result4.plot(figsize=(6, 4))\n",
    "    return result1, result2, result3, result4\n",
    "\n",
    "def explain_model(ds, model):\n",
    "    fs = FactSheet(ds, model=model)\n",
    "\n",
    "    result1 = fs.explain_pfi()\n",
    "    result1.plot(figsize=(6, 4))\n",
    "\n",
    "    result2 = fs.explain_hstatistic(sample_size=1000, grid_resolution=10)\n",
    "    result2.plot(figsize=(6, 5))\n",
    "\n",
    "    result3 = fs.explain_pdp(features=\"MedInc\")\n",
    "    result3.plot(figsize=(6, 5))\n",
    "\n",
    "    result4 = fs.explain_lime(dataset=\"test\", sample_index=0, centered=False)\n",
    "    result4.plot(figsize=(6, 4))\n",
    "    return result1, result2, result3, result4\n",
    "\n",
    "def test_model(ds, model):\n",
    "    fs = FactSheet(ds, model=model)\n",
    "\n",
    "    result1 = fs.diagnose_accuracy_table(train_dataset=\"train\", test_dataset=\"test\", metric=None)\n",
    "    print(result1.table)\n",
    "\n",
    "    result2 = fs.diagnose_robustness(dataset=\"test\", perturb_features=None, \n",
    "                                     noise_levels=(0.2, 0.4, 0.6, 0.8), metric=\"MAE\")\n",
    "    result2.plot(figsize=(6, 4))\n",
    "\n",
    "    result3 = fs.diagnose_residual_fi(method=\"uniform\")\n",
    "    result3.plot(figsize=(6, 4))\n",
    "\n",
    "    result4 = fs.diagnose_slicing_accuracy(features=((\"MedInc\",), (\"Population\", ), ), metric=\"MAE\",\n",
    "                                           method=\"quantile\", threshold=None)\n",
    "    result4.table\n",
    "    return result1, result2, result3, result4\n",
    "\n",
    "def compare_models(ds, model1, model2, model3):\n",
    "    fsc = FactSheet(ds, models=[model1, model2, model3])\n",
    "\n",
    "    result1 = fsc.compare_accuracy_table(train_dataset=\"train\", test_dataset=\"test\", metric=(\"MSE\", \"MAE\"))\n",
    "    result1.plot(figsize=(6.5, 4))\n",
    "\n",
    "    result2 = fsc.compare_robustness(noise_levels=(0.1, 0.2, 0.3, 0.4), \n",
    "                                     perturb_method=\"quantile\", metric=\"MAE\")\n",
    "    result2.plot(figsize=(6.5, 4))\n",
    "    return result1, result2"
   ]
  },
  {
   "cell_type": "markdown",
   "id": "fa856968-cf70-493c-b6a4-0c5f25758455",
   "metadata": {},
   "source": [
    "## 2) Construct Pipeline with Step Functions"
   ]
  },
  {
   "cell_type": "code",
   "execution_count": null,
   "id": "19feefb1-b43e-4d4e-b34d-96ee51c7e557",
   "metadata": {},
   "outputs": [],
   "source": [
    "exp = Pipeline(name='CH-Pipeline')\n",
    "\n",
    "exp.add_step(\n",
    "    name='load_data',\n",
    "    func=load_data,\n",
    "    func_inputs={'name': 'CaliforniaHousing',\n",
    "                 \"target_feature\": \"MedHouseVal\",\n",
    "                 \"inactive_features\": None,\n",
    "                 \"task_type\": \"Regression\",\n",
    "                 \"test_ratio\": 0.33},\n",
    "    save_data=True,\n",
    ")\n",
    "\n",
    "exp.add_step(\n",
    "    name='train_lgbm', \n",
    "    parent='load_data',\n",
    "    func=train_lgbm,\n",
    "    func_inputs={}, # auto map from parent steps\n",
    "    save_model=True,\n",
    ")\n",
    "\n",
    "exp.add_step(\n",
    "    name='train_moe', \n",
    "    parent='load_data',\n",
    "    func=train_moe,\n",
    "    func_inputs={}, # auto map from parent steps\n",
    "    save_model=True,\n",
    ")\n",
    "\n",
    "exp.add_step(\n",
    "    name='train_moe_tuned',\n",
    "    parent='load_data',\n",
    "    func=train_moe_tuned,\n",
    "    func_inputs={}, # auto map from parent steps\n",
    "    save_model=True,\n",
    ")\n",
    "\n",
    "exp.add_step(\n",
    "    func=interpret_model,\n",
    "    func_inputs={}, # auto map from parent steps\n",
    "    name='interpret_model', parent=['load_data', 'train_lgbm'],\n",
    "    save_factsheet=True,\n",
    ")\n",
    "\n",
    "exp.add_step(\n",
    "    func=explain_model,\n",
    "    func_inputs={}, # auto map from parent steps\n",
    "    name='explain_model', parent=['load_data', 'train_lgbm'],\n",
    "    save_factsheet=True,\n",
    ")\n",
    "\n",
    "exp.add_step(\n",
    "    func=test_model,\n",
    "    func_inputs={}, # auto map from parent steps\n",
    "    name='test_model', parent=['load_data', 'train_lgbm'],\n",
    "    save_factsheet=True,\n",
    ")\n",
    "\n",
    "exp.add_step(\n",
    "    func=compare_models,\n",
    "    func_inputs={}, # auto map from parent steps\n",
    "    name='compare_model', parent=['load_data', 'train_lgbm', 'train_moe', 'train_moe_tuned'],\n",
    "    save_factsheet=True,\n",
    ")"
   ]
  },
  {
   "cell_type": "markdown",
   "id": "75b60faf-7b94-4734-a44e-465f1006cfaa",
   "metadata": {},
   "source": [
    "## 3) Run Pipeline"
   ]
  },
  {
   "cell_type": "code",
   "execution_count": null,
   "id": "6b08eeec-d86b-4231-be18-871deb282250",
   "metadata": {},
   "outputs": [],
   "source": [
    "exp.run()"
   ]
  },
  {
   "cell_type": "markdown",
   "id": "4e43ed5b-4885-4b6b-ac7b-0d55f6e42487",
   "metadata": {},
   "source": [
    "## 3) Export Factsheet Results to HTML Report"
   ]
  },
  {
   "cell_type": "code",
   "execution_count": null,
   "id": "ce4f4a2a-1277-473d-8ef4-0a6276673a12",
   "metadata": {},
   "outputs": [],
   "source": [
    "fs = FactSheet(name='CH-Pipeline-FactSheet')\n",
    "fs.export_report(path='CH-Pipeline-Report.html')"
   ]
  }
 ],
 "metadata": {
  "kernelspec": {
   "display_name": "Python 3 (ipykernel)",
   "language": "python",
   "name": "python3"
  },
  "language_info": {
   "codemirror_mode": {
    "name": "ipython",
    "version": 3
   },
   "file_extension": ".py",
   "mimetype": "text/x-python",
   "name": "python",
   "nbconvert_exporter": "python",
   "pygments_lexer": "ipython3",
   "version": "3.9.18"
  },
  "widgets": {
   "application/vnd.jupyter.widget-state+json": {
    "state": {
     "0515cad278c841c68c4b9e456f9b250b": {
      "model_module": "jupyter-vue",
      "model_module_version": "^1.11.1",
      "model_name": "ForceLoadModel",
      "state": {
       "_model_module_version": "^1.11.1",
       "_view_module": null,
       "_view_module_version": "",
       "layout": "IPY_MODEL_44fa2cb124924c75bd77c1f31050dca4"
      }
     },
     "1d0498c6112a437c952cb77a0acac3db": {
      "model_module": "jupyter-vuetify",
      "model_module_version": "^1.9.4",
      "model_name": "ThemeColorsModel",
      "state": {
       "_model_module_version": "^1.9.4",
       "_theme_name": "light",
       "_view_module": null,
       "_view_module_version": "^1.9.4",
       "accent": "#82B1FF",
       "error": "#FF5252",
       "info": "#2196F3",
       "primary": "#1976D2",
       "secondary": "#424242",
       "success": "#4CAF50",
       "warning": "#FB8C00"
      }
     },
     "44fa2cb124924c75bd77c1f31050dca4": {
      "model_module": "@jupyter-widgets/base",
      "model_module_version": "2.0.0",
      "model_name": "LayoutModel",
      "state": {}
     },
     "7815b43ab26a45128f1f5ef2c687c9bf": {
      "model_module": "jupyter-vuetify",
      "model_module_version": "^1.9.4",
      "model_name": "ThemeModel",
      "state": {
       "_model_module_version": "^1.9.4",
       "_view_module": null,
       "_view_module_version": "^1.9.4",
       "dark_effective": false
      }
     },
     "f852e3f1d96f4ee1819af921acc110a9": {
      "model_module": "jupyter-vuetify",
      "model_module_version": "^1.9.4",
      "model_name": "ThemeColorsModel",
      "state": {
       "_model_module_version": "^1.9.4",
       "_theme_name": "dark",
       "_view_module": null,
       "_view_module_version": "^1.9.4",
       "accent": "#FF4081",
       "error": "#FF5252",
       "info": "#2196F3",
       "primary": "#2196F3",
       "secondary": "#424242",
       "success": "#4CAF50",
       "warning": "#FB8C00"
      }
     }
    },
    "version_major": 2,
    "version_minor": 0
   }
  }
 },
 "nbformat": 4,
 "nbformat_minor": 5
}
